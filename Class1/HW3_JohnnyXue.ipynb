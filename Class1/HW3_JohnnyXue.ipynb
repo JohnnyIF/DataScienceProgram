{
 "cells": [
  {
   "cell_type": "markdown",
   "metadata": {},
   "source": [
    "# A rental car company claims the mean time to rent a car on their website is 60 seconds with a standard deviation of 30 seconds. A random sample of 36 customers attempted to rent a car on the website. "
   ]
  },
  {
   "cell_type": "markdown",
   "metadata": {},
   "source": [
    "## 1) If the mean time to rent was 65 seconds. Is this enough evidence to contradict the company's claim at 5% confidence level? What's the power?"
   ]
  },
  {
   "cell_type": "code",
   "execution_count": 41,
   "metadata": {},
   "outputs": [],
   "source": [
    "import scipy.stats as stats\n",
    "import math"
   ]
  },
  {
   "cell_type": "code",
   "execution_count": 42,
   "metadata": {},
   "outputs": [
    {
     "name": "stdout",
     "output_type": "stream",
     "text": [
      "z_score: 1.0\n",
      "p_value: 0.159\n"
     ]
    }
   ],
   "source": [
    "# H0: mu - mu0 = 0    H1: mu - mu0 != 0\n",
    "alpha = 0.05\n",
    "mu = 65\n",
    "mu0 = 60\n",
    "n = 36\n",
    "sigma = 30\n",
    "z_score = (mu-mu0) / (sigma/math.sqrt(n))\n",
    "print('z_score: ' + str(z_score))\n",
    "p_value = round(1-stats.norm.cdf(z_score), 3)\n",
    "print('p_value: ' + str(p_value))"
   ]
  },
  {
   "cell_type": "markdown",
   "metadata": {},
   "source": [
    "#### we cannot reject the null hypothesis, and the power is 84.1%"
   ]
  },
  {
   "cell_type": "markdown",
   "metadata": {},
   "source": [
    "## 2) If the analysts team believe the claim is not correct and the the time for rent is 67 seconds, what's the sample size need to designed for a sufficient test with 85% fo power"
   ]
  },
  {
   "cell_type": "code",
   "execution_count": 44,
   "metadata": {},
   "outputs": [],
   "source": [
    "z_score_2 = stats.norm.ppf(.85)"
   ]
  },
  {
   "cell_type": "code",
   "execution_count": 45,
   "metadata": {},
   "outputs": [
    {
     "data": {
      "text/plain": [
       "19.730097015751575"
      ]
     },
     "execution_count": 45,
     "metadata": {},
     "output_type": "execute_result"
    }
   ],
   "source": [
    "mu = 67\n",
    "n = ((z_score_2 * sigma)/(mu - mu0))**2\n",
    "n"
   ]
  },
  {
   "cell_type": "markdown",
   "metadata": {},
   "source": [
    "#### so the sample size would be 20"
   ]
  }
 ],
 "metadata": {
  "kernelspec": {
   "display_name": "Python 3",
   "language": "python",
   "name": "python3"
  },
  "language_info": {
   "codemirror_mode": {
    "name": "ipython",
    "version": 3
   },
   "file_extension": ".py",
   "mimetype": "text/x-python",
   "name": "python",
   "nbconvert_exporter": "python",
   "pygments_lexer": "ipython3",
   "version": "3.7.3"
  }
 },
 "nbformat": 4,
 "nbformat_minor": 4
}
