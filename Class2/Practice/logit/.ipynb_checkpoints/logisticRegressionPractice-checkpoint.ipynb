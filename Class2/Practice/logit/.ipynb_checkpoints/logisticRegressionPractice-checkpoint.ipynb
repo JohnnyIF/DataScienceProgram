{
 "cells": [
  {
   "cell_type": "markdown",
   "metadata": {},
   "source": [
    "# This is the practice for logistic regression\n",
    "# Goals:\n",
    "## 1 - Fit logistic model (Sklearn and GLM- statsmodel)\n",
    "## 2 - KPIs to evaluate binary classification model(logistic model)"
   ]
  },
  {
   "cell_type": "code",
   "execution_count": 48,
   "metadata": {},
   "outputs": [],
   "source": [
    "from pathlib import Path\n",
    "import pandas as pd\n",
    "import numpy as np\n",
    "from sklearn.model_selection import train_test_split\n",
    "\n",
    "from sklearn.linear_model import LogisticRegression #, LogisticRegressionCV\n",
    "from sklearn.tree import DecisionTreeClassifier\n",
    "from sklearn.metrics import confusion_matrix, precision_recall_fscore_support\n",
    "from sklearn.metrics import roc_curve, accuracy_score, roc_auc_score\n",
    "\n",
    "import statsmodels.api as sm\n",
    "\n",
    "\n",
    "from dmba import classificationSummary\n",
    "\n",
    "import seaborn as sns\n",
    "import matplotlib.pyplot as plt\n",
    "\n",
    "%matplotlib inline"
   ]
  },
  {
   "cell_type": "markdown",
   "metadata": {},
   "source": [
    "Define paths to data sets. "
   ]
  },
  {
   "cell_type": "code",
   "execution_count": 49,
   "metadata": {},
   "outputs": [],
   "source": [
    "DATA = Path('.').resolve().parents[1] / 'Practice\\logit'\n",
    "LOAN3000_CSV = DATA / 'loan3000.csv'\n",
    "# LOAN_DATA_CSV = DATA / 'loan_data.csv.gz'"
   ]
  },
  {
   "cell_type": "markdown",
   "metadata": {},
   "source": [
    "### Load Data and EDA"
   ]
  },
  {
   "cell_type": "code",
   "execution_count": 50,
   "metadata": {},
   "outputs": [
    {
     "name": "stdout",
     "output_type": "stream",
     "text": [
      "(3000, 6)\n",
      "Index(['Unnamed: 0', 'outcome', 'purpose_', 'dti', 'borrower_score',\n",
      "       'payment_inc_ratio'],\n",
      "      dtype='object')\n",
      "   Unnamed: 0   outcome            purpose_    dti  borrower_score  \\\n",
      "0       32109  paid off  debt_consolidation  21.23            0.40   \n",
      "1       16982   default         credit_card  15.49            0.40   \n",
      "2       25335  paid off  debt_consolidation  27.30            0.70   \n",
      "3       34580  paid off      major_purchase  21.11            0.40   \n",
      "4       14424   default  debt_consolidation  16.46            0.45   \n",
      "\n",
      "   payment_inc_ratio  \n",
      "0            5.11135  \n",
      "1            5.43165  \n",
      "2            9.23003  \n",
      "3            2.33482  \n",
      "4           12.10320  \n"
     ]
    }
   ],
   "source": [
    "loan_data = pd.read_csv(LOAN3000_CSV)\n",
    "print(loan_data.shape)\n",
    "print(loan_data.columns)\n",
    "print(loan_data.head())"
   ]
  },
  {
   "cell_type": "markdown",
   "metadata": {},
   "source": [
    "##### Task: Create 'dv' before run the cell"
   ]
  },
  {
   "cell_type": "code",
   "execution_count": 51,
   "metadata": {},
   "outputs": [
    {
     "data": {
      "text/plain": [
       "array(['paid off', 'default'], dtype=object)"
      ]
     },
     "execution_count": 51,
     "metadata": {},
     "output_type": "execute_result"
    }
   ],
   "source": [
    "loan_data.outcome.unique()"
   ]
  },
  {
   "cell_type": "code",
   "execution_count": 52,
   "metadata": {},
   "outputs": [
    {
     "name": "stdout",
     "output_type": "stream",
     "text": [
      "(3000, 6)\n",
      "Index(['outcome', 'purpose', 'dti', 'borrower_score', 'payment_inc_ratio',\n",
      "       'dv'],\n",
      "      dtype='object')\n",
      "    outcome             purpose    dti  borrower_score  payment_inc_ratio  dv\n",
      "0  paid off  debt_consolidation  21.23            0.40            5.11135   1\n",
      "1   default         credit_card  15.49            0.40            5.43165   0\n",
      "2  paid off  debt_consolidation  27.30            0.70            9.23003   1\n",
      "3  paid off      major_purchase  21.11            0.40            2.33482   1\n",
      "4   default  debt_consolidation  16.46            0.45           12.10320   0\n"
     ]
    }
   ],
   "source": [
    "loan_data = loan_data.drop(loan_data.columns[0], axis=1).copy()\n",
    "loan_data.columns=['outcome', 'purpose', 'dti', 'borrower_score', 'payment_inc_ratio']\n",
    "\n",
    "#PLEASE USE LIST Comprehension to convert nominal 'outcome' to binary numerical column\n",
    "loan_data['dv'] = loan_data.outcome.apply(lambda x: 0 if x == \"default\" else 1)\n",
    "\n",
    "print(loan_data.shape)\n",
    "print(loan_data.columns)\n",
    "print(loan_data.head())"
   ]
  },
  {
   "cell_type": "code",
   "execution_count": 53,
   "metadata": {},
   "outputs": [
    {
     "name": "stdout",
     "output_type": "stream",
     "text": [
      "\n",
      "outcome\n",
      "paid off    1555\n",
      "default     1445\n",
      "Name: outcome, dtype: int64\n",
      "\n",
      "purpose\n",
      "debt_consolidation    1738\n",
      "credit_card            525\n",
      "other                  318\n",
      "home_improvement       186\n",
      "major_purchase         115\n",
      "small_business          88\n",
      "medical                 30\n",
      "Name: purpose, dtype: int64\n",
      "\n",
      "dti\n",
      "17.33    7\n",
      "16.20    6\n",
      "22.14    5\n",
      "10.55    5\n",
      "19.05    5\n",
      "        ..\n",
      "10.79    1\n",
      "19.61    1\n",
      "25.87    1\n",
      "12.57    1\n",
      "18.05    1\n",
      "Name: dti, Length: 1870, dtype: int64\n",
      "\n",
      "borrower_score\n",
      "0.50    444\n",
      "0.55    423\n",
      "0.45    418\n",
      "0.60    361\n",
      "0.40    354\n",
      "0.65    244\n",
      "0.35    218\n",
      "0.70    159\n",
      "0.30    150\n",
      "0.25     77\n",
      "0.75     71\n",
      "0.20     30\n",
      "0.80     30\n",
      "0.85     10\n",
      "0.15      7\n",
      "0.90      3\n",
      "0.10      1\n",
      "Name: borrower_score, dtype: int64\n",
      "\n",
      "payment_inc_ratio\n",
      "6.93212     2\n",
      "5.71560     2\n",
      "9.23003     2\n",
      "10.19370    2\n",
      "14.16070    2\n",
      "           ..\n",
      "2.14311     1\n",
      "4.93559     1\n",
      "12.04720    1\n",
      "6.64194     1\n",
      "8.25000     1\n",
      "Name: payment_inc_ratio, Length: 2962, dtype: int64\n",
      "\n",
      "dv\n",
      "1    1555\n",
      "0    1445\n",
      "Name: dv, dtype: int64\n"
     ]
    }
   ],
   "source": [
    "for nm in loan_data.columns:\n",
    "    print(\"\\n{}\".format(nm))\n",
    "    print(loan_data[nm].value_counts())"
   ]
  },
  {
   "cell_type": "markdown",
   "metadata": {},
   "source": [
    "##### Task - Please use 'dv' columnn calculate event rate, finish below cell before run"
   ]
  },
  {
   "cell_type": "code",
   "execution_count": 54,
   "metadata": {},
   "outputs": [
    {
     "name": "stdout",
     "output_type": "stream",
     "text": [
      "event rate is: 0.5183333333333333\n"
     ]
    }
   ],
   "source": [
    "print(\"event rate is: {}\".format(loan_data['dv'].mean()))"
   ]
  },
  {
   "cell_type": "code",
   "execution_count": 55,
   "metadata": {},
   "outputs": [
    {
     "data": {
      "text/plain": [
       "outcome              0\n",
       "purpose              0\n",
       "dti                  0\n",
       "borrower_score       0\n",
       "payment_inc_ratio    0\n",
       "dv                   0\n",
       "dtype: int64"
      ]
     },
     "execution_count": 55,
     "metadata": {},
     "output_type": "execute_result"
    }
   ],
   "source": [
    "loan_data.isnull().sum()"
   ]
  },
  {
   "cell_type": "code",
   "execution_count": 56,
   "metadata": {},
   "outputs": [
    {
     "data": {
      "text/html": [
       "<div>\n",
       "<style scoped>\n",
       "    .dataframe tbody tr th:only-of-type {\n",
       "        vertical-align: middle;\n",
       "    }\n",
       "\n",
       "    .dataframe tbody tr th {\n",
       "        vertical-align: top;\n",
       "    }\n",
       "\n",
       "    .dataframe thead th {\n",
       "        text-align: right;\n",
       "    }\n",
       "</style>\n",
       "<table border=\"1\" class=\"dataframe\">\n",
       "  <thead>\n",
       "    <tr style=\"text-align: right;\">\n",
       "      <th></th>\n",
       "      <th>count</th>\n",
       "      <th>mean</th>\n",
       "      <th>std</th>\n",
       "      <th>min</th>\n",
       "      <th>25%</th>\n",
       "      <th>50%</th>\n",
       "      <th>75%</th>\n",
       "      <th>max</th>\n",
       "      <th>nuniqueWna</th>\n",
       "      <th>nunique</th>\n",
       "    </tr>\n",
       "  </thead>\n",
       "  <tbody>\n",
       "    <tr>\n",
       "      <th>dti</th>\n",
       "      <td>3000.0</td>\n",
       "      <td>16.120103</td>\n",
       "      <td>7.590890</td>\n",
       "      <td>0.000000</td>\n",
       "      <td>10.362500</td>\n",
       "      <td>15.98500</td>\n",
       "      <td>21.3600</td>\n",
       "      <td>35.2700</td>\n",
       "      <td>1870</td>\n",
       "      <td>1870</td>\n",
       "    </tr>\n",
       "    <tr>\n",
       "      <th>borrower_score</th>\n",
       "      <td>3000.0</td>\n",
       "      <td>0.502333</td>\n",
       "      <td>0.128297</td>\n",
       "      <td>0.100000</td>\n",
       "      <td>0.400000</td>\n",
       "      <td>0.50000</td>\n",
       "      <td>0.6000</td>\n",
       "      <td>0.9000</td>\n",
       "      <td>17</td>\n",
       "      <td>17</td>\n",
       "    </tr>\n",
       "    <tr>\n",
       "      <th>payment_inc_ratio</th>\n",
       "      <td>3000.0</td>\n",
       "      <td>8.137902</td>\n",
       "      <td>4.296310</td>\n",
       "      <td>0.221906</td>\n",
       "      <td>4.758135</td>\n",
       "      <td>7.58842</td>\n",
       "      <td>11.0915</td>\n",
       "      <td>33.6309</td>\n",
       "      <td>2962</td>\n",
       "      <td>2962</td>\n",
       "    </tr>\n",
       "    <tr>\n",
       "      <th>dv</th>\n",
       "      <td>3000.0</td>\n",
       "      <td>0.518333</td>\n",
       "      <td>0.499747</td>\n",
       "      <td>0.000000</td>\n",
       "      <td>0.000000</td>\n",
       "      <td>1.00000</td>\n",
       "      <td>1.0000</td>\n",
       "      <td>1.0000</td>\n",
       "      <td>2</td>\n",
       "      <td>2</td>\n",
       "    </tr>\n",
       "  </tbody>\n",
       "</table>\n",
       "</div>"
      ],
      "text/plain": [
       "                    count       mean       std       min        25%       50%  \\\n",
       "dti                3000.0  16.120103  7.590890  0.000000  10.362500  15.98500   \n",
       "borrower_score     3000.0   0.502333  0.128297  0.100000   0.400000   0.50000   \n",
       "payment_inc_ratio  3000.0   8.137902  4.296310  0.221906   4.758135   7.58842   \n",
       "dv                 3000.0   0.518333  0.499747  0.000000   0.000000   1.00000   \n",
       "\n",
       "                       75%      max  nuniqueWna  nunique  \n",
       "dti                21.3600  35.2700        1870     1870  \n",
       "borrower_score      0.6000   0.9000          17       17  \n",
       "payment_inc_ratio  11.0915  33.6309        2962     2962  \n",
       "dv                  1.0000   1.0000           2        2  "
      ]
     },
     "execution_count": 56,
     "metadata": {},
     "output_type": "execute_result"
    }
   ],
   "source": [
    "numcols=list(loan_data.describe().columns)\n",
    "num_stats = loan_data.describe().transpose() \n",
    "num_stats[\"nuniqueWna\"]= loan_data[numcols].nunique(dropna=False) \n",
    "num_stats[\"nunique\"]= loan_data[numcols].nunique()\n",
    "num_stats"
   ]
  },
  {
   "cell_type": "code",
   "execution_count": 57,
   "metadata": {},
   "outputs": [
    {
     "data": {
      "text/html": [
       "<div>\n",
       "<style scoped>\n",
       "    .dataframe tbody tr th:only-of-type {\n",
       "        vertical-align: middle;\n",
       "    }\n",
       "\n",
       "    .dataframe tbody tr th {\n",
       "        vertical-align: top;\n",
       "    }\n",
       "\n",
       "    .dataframe thead th {\n",
       "        text-align: right;\n",
       "    }\n",
       "</style>\n",
       "<table border=\"1\" class=\"dataframe\">\n",
       "  <thead>\n",
       "    <tr style=\"text-align: right;\">\n",
       "      <th></th>\n",
       "      <th>purpose</th>\n",
       "      <th>dv</th>\n",
       "      <th>counts</th>\n",
       "    </tr>\n",
       "  </thead>\n",
       "  <tbody>\n",
       "    <tr>\n",
       "      <th>0</th>\n",
       "      <td>credit_card</td>\n",
       "      <td>0</td>\n",
       "      <td>207</td>\n",
       "    </tr>\n",
       "    <tr>\n",
       "      <th>1</th>\n",
       "      <td>credit_card</td>\n",
       "      <td>1</td>\n",
       "      <td>318</td>\n",
       "    </tr>\n",
       "    <tr>\n",
       "      <th>2</th>\n",
       "      <td>debt_consolidation</td>\n",
       "      <td>0</td>\n",
       "      <td>862</td>\n",
       "    </tr>\n",
       "    <tr>\n",
       "      <th>3</th>\n",
       "      <td>debt_consolidation</td>\n",
       "      <td>1</td>\n",
       "      <td>876</td>\n",
       "    </tr>\n",
       "    <tr>\n",
       "      <th>4</th>\n",
       "      <td>home_improvement</td>\n",
       "      <td>0</td>\n",
       "      <td>80</td>\n",
       "    </tr>\n",
       "    <tr>\n",
       "      <th>5</th>\n",
       "      <td>home_improvement</td>\n",
       "      <td>1</td>\n",
       "      <td>106</td>\n",
       "    </tr>\n",
       "    <tr>\n",
       "      <th>6</th>\n",
       "      <td>major_purchase</td>\n",
       "      <td>0</td>\n",
       "      <td>49</td>\n",
       "    </tr>\n",
       "    <tr>\n",
       "      <th>7</th>\n",
       "      <td>major_purchase</td>\n",
       "      <td>1</td>\n",
       "      <td>66</td>\n",
       "    </tr>\n",
       "    <tr>\n",
       "      <th>8</th>\n",
       "      <td>medical</td>\n",
       "      <td>0</td>\n",
       "      <td>19</td>\n",
       "    </tr>\n",
       "    <tr>\n",
       "      <th>9</th>\n",
       "      <td>medical</td>\n",
       "      <td>1</td>\n",
       "      <td>11</td>\n",
       "    </tr>\n",
       "    <tr>\n",
       "      <th>10</th>\n",
       "      <td>other</td>\n",
       "      <td>0</td>\n",
       "      <td>172</td>\n",
       "    </tr>\n",
       "    <tr>\n",
       "      <th>11</th>\n",
       "      <td>other</td>\n",
       "      <td>1</td>\n",
       "      <td>146</td>\n",
       "    </tr>\n",
       "    <tr>\n",
       "      <th>12</th>\n",
       "      <td>small_business</td>\n",
       "      <td>0</td>\n",
       "      <td>56</td>\n",
       "    </tr>\n",
       "    <tr>\n",
       "      <th>13</th>\n",
       "      <td>small_business</td>\n",
       "      <td>1</td>\n",
       "      <td>32</td>\n",
       "    </tr>\n",
       "  </tbody>\n",
       "</table>\n",
       "</div>"
      ],
      "text/plain": [
       "               purpose  dv  counts\n",
       "0          credit_card   0     207\n",
       "1          credit_card   1     318\n",
       "2   debt_consolidation   0     862\n",
       "3   debt_consolidation   1     876\n",
       "4     home_improvement   0      80\n",
       "5     home_improvement   1     106\n",
       "6       major_purchase   0      49\n",
       "7       major_purchase   1      66\n",
       "8              medical   0      19\n",
       "9              medical   1      11\n",
       "10               other   0     172\n",
       "11               other   1     146\n",
       "12      small_business   0      56\n",
       "13      small_business   1      32"
      ]
     },
     "execution_count": 57,
     "metadata": {},
     "output_type": "execute_result"
    }
   ],
   "source": [
    "loan_data.groupby([\"purpose\", 'dv']).size().reset_index(name='counts')"
   ]
  },
  {
   "cell_type": "code",
   "execution_count": 58,
   "metadata": {},
   "outputs": [
    {
     "name": "stdout",
     "output_type": "stream",
     "text": [
      "                    count  default  default_rate\n",
      "purpose                                         \n",
      "small_business         88       32      0.363636\n",
      "medical                30       11      0.366667\n",
      "other                 318      146      0.459119\n",
      "debt_consolidation   1738      876      0.504028\n",
      "home_improvement      186      106      0.569892\n",
      "major_purchase        115       66      0.573913\n",
      "credit_card           525      318      0.605714\n"
     ]
    }
   ],
   "source": [
    "purpose_risk = pd.concat([loan_data.groupby([\"purpose\"]).size(), loan_data.groupby([\"purpose\"]).sum()['dv']], axis=1)\n",
    "purpose_risk.columns = ['count','default']\n",
    "purpose_risk['default_rate']=purpose_risk['default']/purpose_risk['count']\n",
    "print(purpose_risk.sort_values(['default_rate']))"
   ]
  },
  {
   "cell_type": "code",
   "execution_count": 59,
   "metadata": {},
   "outputs": [
    {
     "name": "stdout",
     "output_type": "stream",
     "text": [
      "Correlation Matrix \n",
      "                         dti  borrower_score  payment_inc_ratio        dv\n",
      "dti                1.000000       -0.258860           0.232972 -0.152942\n",
      "borrower_score    -0.258860        1.000000          -0.109575  0.297070\n",
      "payment_inc_ratio  0.232972       -0.109575           1.000000 -0.162454\n",
      "dv                -0.152942        0.297070          -0.162454  1.000000\n"
     ]
    },
    {
     "data": {
      "text/plain": [
       "[Text(0.5, 0, 'dti'),\n",
       " Text(1.5, 0, 'borrower_score'),\n",
       " Text(2.5, 0, 'payment_inc_ratio'),\n",
       " Text(3.5, 0, 'dv')]"
      ]
     },
     "execution_count": 59,
     "metadata": {},
     "output_type": "execute_result"
    },
    {
     "data": {
      "image/png": "[encoded data removed]",
      "text/plain": [
       "<Figure size 432x288 with 2 Axes>"
      ]
     },
     "metadata": {
      "needs_background": "light"
     },
     "output_type": "display_data"
    }
   ],
   "source": [
    "corr = loan_data[numcols].corr()\n",
    "print(\"Correlation Matrix \\n {}\".format(corr))\n",
    "\n",
    "ax = sns.heatmap(\n",
    "    corr, \n",
    "    vmin=-1, vmax=1, center=0,\n",
    "    cmap=sns.diverging_palette(20, 220, n=200),\n",
    "    square=True)\n",
    "\n",
    "ax.set_xticklabels(\n",
    "    ax.get_xticklabels(),\n",
    "    rotation=45,\n",
    "    horizontalalignment='right')"
   ]
  },
  {
   "cell_type": "markdown",
   "metadata": {},
   "source": [
    "#### This dataset do not have too much variables, therefore just did a light EDA. You can plot bar, histogram and bar/target, hist/targert. For this data just need to convert nominal to numerical"
   ]
  },
  {
   "cell_type": "markdown",
   "metadata": {},
   "source": [
    "# Logistic regression"
   ]
  },
  {
   "cell_type": "markdown",
   "metadata": {},
   "source": [
    "## Logistic Regression and the GLM\n",
    "The package _scikit-learn_ has a specialised class for `LogisticRegression`. _Statsmodels_ has a more general method based on generalized linear model (GLM).\n",
    "\n",
    "In scikit-learn, your target variable could be numerical or categorical."
   ]
  },
  {
   "cell_type": "code",
   "execution_count": 60,
   "metadata": {},
   "outputs": [
    {
     "name": "stdout",
     "output_type": "stream",
     "text": [
      "intercept  -1.1246447734606824\n",
      "classes ['default' 'paid off']\n"
     ]
    },
    {
     "data": {
      "text/html": [
       "<div>\n",
       "<style scoped>\n",
       "    .dataframe tbody tr th:only-of-type {\n",
       "        vertical-align: middle;\n",
       "    }\n",
       "\n",
       "    .dataframe tbody tr th {\n",
       "        vertical-align: top;\n",
       "    }\n",
       "\n",
       "    .dataframe thead th {\n",
       "        text-align: right;\n",
       "    }\n",
       "</style>\n",
       "<table border=\"1\" class=\"dataframe\">\n",
       "  <thead>\n",
       "    <tr style=\"text-align: right;\">\n",
       "      <th></th>\n",
       "      <th>coeff</th>\n",
       "    </tr>\n",
       "  </thead>\n",
       "  <tbody>\n",
       "    <tr>\n",
       "      <th>dti</th>\n",
       "      <td>-0.024115</td>\n",
       "    </tr>\n",
       "    <tr>\n",
       "      <th>borrower_score</th>\n",
       "      <td>5.081635</td>\n",
       "    </tr>\n",
       "    <tr>\n",
       "      <th>payment_inc_ratio</th>\n",
       "      <td>-0.063141</td>\n",
       "    </tr>\n",
       "    <tr>\n",
       "      <th>debt_consolidation</th>\n",
       "      <td>-0.428964</td>\n",
       "    </tr>\n",
       "    <tr>\n",
       "      <th>home_improvement</th>\n",
       "      <td>-0.623048</td>\n",
       "    </tr>\n",
       "    <tr>\n",
       "      <th>major_purchase</th>\n",
       "      <td>-0.629035</td>\n",
       "    </tr>\n",
       "    <tr>\n",
       "      <th>medical</th>\n",
       "      <td>-1.602686</td>\n",
       "    </tr>\n",
       "    <tr>\n",
       "      <th>other</th>\n",
       "      <td>-0.893278</td>\n",
       "    </tr>\n",
       "    <tr>\n",
       "      <th>small_business</th>\n",
       "      <td>-1.321321</td>\n",
       "    </tr>\n",
       "  </tbody>\n",
       "</table>\n",
       "</div>"
      ],
      "text/plain": [
       "                       coeff\n",
       "dti                -0.024115\n",
       "borrower_score      5.081635\n",
       "payment_inc_ratio  -0.063141\n",
       "debt_consolidation -0.428964\n",
       "home_improvement   -0.623048\n",
       "major_purchase     -0.629035\n",
       "medical            -1.602686\n",
       "other              -0.893278\n",
       "small_business     -1.321321"
      ]
     },
     "execution_count": 60,
     "metadata": {},
     "output_type": "execute_result"
    }
   ],
   "source": [
    "predictors = ['purpose', 'dti', 'borrower_score', 'payment_inc_ratio']\n",
    "outcome = 'outcome'\n",
    "\n",
    "loan, loan_test = train_test_split(loan_data, test_size=0.2)\n",
    "\n",
    "X_train = pd.get_dummies(loan[predictors], prefix='', prefix_sep='', drop_first=True)\n",
    "y_train = loan[outcome] \n",
    "\n",
    "X_test = pd.get_dummies(loan_test[predictors], prefix='', prefix_sep='', drop_first=True)\n",
    "y_test = loan_test[outcome] \n",
    "\n",
    "#C=1e42,\n",
    "logit_reg = LogisticRegression(penalty='l2', C=1e42, solver='liblinear')\n",
    "logit_reg.fit(X_train, y_train)\n",
    "\n",
    "print('intercept ', logit_reg.intercept_[0])\n",
    "print('classes', logit_reg.classes_)\n",
    "pd.DataFrame({'coeff': logit_reg.coef_[0]}, \n",
    "             index=X_train.columns)"
   ]
  },
  {
   "cell_type": "markdown",
   "metadata": {},
   "source": [
    "##### Task - Please fit the model second model with taget is a binary target 'dv', finish below cell in \"Fit model\"\n",
    "##### Task continued - please output final model result as above example\n",
    "##### QUESTION - What is the model fitted coefficent difference between the two model? Why?\n",
    "##### ANSWER - The values of coefficents are close to each other while with minor difference. This is acceptable since the samples are not exactly the same."
   ]
  },
  {
   "cell_type": "code",
   "execution_count": 61,
   "metadata": {},
   "outputs": [
    {
     "name": "stdout",
     "output_type": "stream",
     "text": [
      "intercept  -0.9358869973960977\n",
      "classes [0 1]\n"
     ]
    },
    {
     "data": {
      "text/html": [
       "<div>\n",
       "<style scoped>\n",
       "    .dataframe tbody tr th:only-of-type {\n",
       "        vertical-align: middle;\n",
       "    }\n",
       "\n",
       "    .dataframe tbody tr th {\n",
       "        vertical-align: top;\n",
       "    }\n",
       "\n",
       "    .dataframe thead th {\n",
       "        text-align: right;\n",
       "    }\n",
       "</style>\n",
       "<table border=\"1\" class=\"dataframe\">\n",
       "  <thead>\n",
       "    <tr style=\"text-align: right;\">\n",
       "      <th></th>\n",
       "      <th>coeff</th>\n",
       "    </tr>\n",
       "  </thead>\n",
       "  <tbody>\n",
       "    <tr>\n",
       "      <th>dti</th>\n",
       "      <td>-0.022127</td>\n",
       "    </tr>\n",
       "    <tr>\n",
       "      <th>borrower_score</th>\n",
       "      <td>4.804939</td>\n",
       "    </tr>\n",
       "    <tr>\n",
       "      <th>payment_inc_ratio</th>\n",
       "      <td>-0.077917</td>\n",
       "    </tr>\n",
       "    <tr>\n",
       "      <th>debt_consolidation</th>\n",
       "      <td>-0.360766</td>\n",
       "    </tr>\n",
       "    <tr>\n",
       "      <th>home_improvement</th>\n",
       "      <td>-0.460723</td>\n",
       "    </tr>\n",
       "    <tr>\n",
       "      <th>major_purchase</th>\n",
       "      <td>-0.623099</td>\n",
       "    </tr>\n",
       "    <tr>\n",
       "      <th>medical</th>\n",
       "      <td>-1.309137</td>\n",
       "    </tr>\n",
       "    <tr>\n",
       "      <th>other</th>\n",
       "      <td>-0.661496</td>\n",
       "    </tr>\n",
       "    <tr>\n",
       "      <th>small_business</th>\n",
       "      <td>-1.042864</td>\n",
       "    </tr>\n",
       "  </tbody>\n",
       "</table>\n",
       "</div>"
      ],
      "text/plain": [
       "                       coeff\n",
       "dti                -0.022127\n",
       "borrower_score      4.804939\n",
       "payment_inc_ratio  -0.077917\n",
       "debt_consolidation -0.360766\n",
       "home_improvement   -0.460723\n",
       "major_purchase     -0.623099\n",
       "medical            -1.309137\n",
       "other              -0.661496\n",
       "small_business     -1.042864"
      ]
     },
     "execution_count": 61,
     "metadata": {},
     "output_type": "execute_result"
    }
   ],
   "source": [
    "predictors = ['purpose', 'dti', 'borrower_score', 'payment_inc_ratio']\n",
    "outcome = 'dv'\n",
    "\n",
    "loan, loan_test = train_test_split(loan_data, test_size=0.2)\n",
    "\n",
    "X_train = pd.get_dummies(loan[predictors], prefix='', prefix_sep='', drop_first=True)\n",
    "y_train = loan[outcome] \n",
    "\n",
    "X_test = pd.get_dummies(loan_test[predictors], prefix='', prefix_sep='', drop_first=True)\n",
    "y_test = loan_test[outcome] \n",
    "\n",
    "#Fit model \n",
    "logit_reg2 = LogisticRegression(penalty='l2', C=1e42, solver='liblinear')\n",
    "logit_reg2.fit(X_train, y_train)\n",
    "\n",
    "print('intercept ', logit_reg2.intercept_[0])\n",
    "print('classes', logit_reg2.classes_)\n",
    "pd.DataFrame({'coeff': logit_reg2.coef_[0]}, \n",
    "             index=X_train.columns)"
   ]
  },
  {
   "cell_type": "markdown",
   "metadata": {},
   "source": [
    "#### Predicted Values from Logistic Regression"
   ]
  },
  {
   "cell_type": "code",
   "execution_count": 36,
   "metadata": {},
   "outputs": [
    {
     "name": "stdout",
     "output_type": "stream",
     "text": [
      "           default     paid off\n",
      "count  2400.000000  2400.000000\n",
      "mean      0.480659     0.519341\n",
      "std       0.172331     0.172331\n",
      "min       0.060106     0.082365\n",
      "25%       0.350414     0.392498\n",
      "50%       0.475555     0.524445\n",
      "75%       0.607502     0.649586\n",
      "max       0.917635     0.939894\n",
      "          default    paid off\n",
      "count  600.000000  600.000000\n",
      "mean     0.482323    0.517677\n",
      "std      0.178400    0.178400\n",
      "min      0.089437    0.107082\n",
      "25%      0.345962    0.386499\n",
      "50%      0.476694    0.523306\n",
      "75%      0.613501    0.654038\n",
      "max      0.892918    0.910563\n"
     ]
    }
   ],
   "source": [
    "pred_train = pd.DataFrame(logit_reg.predict_proba(X_train),\n",
    "                    columns=logit_reg.classes_)\n",
    "pred_test = pd.DataFrame(logit_reg.predict_proba(X_test),\n",
    "                    columns=logit_reg.classes_)\n",
    "print(pred_train.describe())\n",
    "\n",
    "print(pred_test.describe())"
   ]
  },
  {
   "cell_type": "code",
   "execution_count": 37,
   "metadata": {},
   "outputs": [
    {
     "name": "stdout",
     "output_type": "stream",
     "text": [
      "                 0            1\n",
      "count  2400.000000  2400.000000\n",
      "mean      0.518750     0.481250\n",
      "std       0.181733     0.181733\n",
      "min       0.054633     0.068110\n",
      "25%       0.383807     0.341630\n",
      "50%       0.521410     0.478590\n",
      "75%       0.658370     0.616193\n",
      "max       0.931890     0.945367\n",
      "                0           1\n",
      "count  600.000000  600.000000\n",
      "mean     0.516434    0.483566\n",
      "std      0.190764    0.190764\n",
      "min      0.090363    0.075100\n",
      "25%      0.372635    0.330961\n",
      "50%      0.518954    0.481046\n",
      "75%      0.669039    0.627365\n",
      "max      0.924900    0.909637\n"
     ]
    }
   ],
   "source": [
    "pred_train = pd.DataFrame(logit_reg2.predict_proba(X_train),\n",
    "                    columns=logit_reg2.classes_)\n",
    "pred_test = pd.DataFrame(logit_reg2.predict_proba(X_test),\n",
    "                    columns=logit_reg2.classes_)\n",
    "print(pred_train.describe())\n",
    "\n",
    "print(pred_test.describe())"
   ]
  },
  {
   "cell_type": "markdown",
   "metadata": {},
   "source": [
    "## GLM Model - logistic regression\n",
    "For comparison, here the GLM model using _statsmodels_. This method requires that the outcome is mapped to numbers. \n",
    "##### use GLM (general linear model) with the binomial family to fit a logistic regression\n",
    "##### Notice: use this GLM module you can fit a series of model by changing the link function which specified in the family option"
   ]
  },
  {
   "cell_type": "code",
   "execution_count": 62,
   "metadata": {},
   "outputs": [
    {
     "name": "stdout",
     "output_type": "stream",
     "text": [
      "                 Generalized Linear Model Regression Results                  \n",
      "==============================================================================\n",
      "Dep. Variable:                     dv   No. Observations:                 2400\n",
      "Model:                            GLM   Df Residuals:                     2390\n",
      "Model Family:                Binomial   Df Model:                            9\n",
      "Link Function:                  logit   Scale:                          1.0000\n",
      "Method:                          IRLS   Log-Likelihood:                -1496.8\n",
      "Date:                Tue, 23 Jun 2020   Deviance:                       2993.5\n",
      "Time:                        22:49:51   Pearson chi2:                 2.38e+03\n",
      "No. Iterations:                     4                                         \n",
      "Covariance Type:            nonrobust                                         \n",
      "======================================================================================\n",
      "                         coef    std err          z      P>|z|      [0.025      0.975]\n",
      "--------------------------------------------------------------------------------------\n",
      "const                 -0.9354      0.265     -3.536      0.000      -1.454      -0.417\n",
      "dti                   -0.0221      0.006     -3.583      0.000      -0.034      -0.010\n",
      "borrower_score         4.8041      0.382     12.569      0.000       4.055       5.553\n",
      "payment_inc_ratio     -0.0779      0.011     -7.143      0.000      -0.099      -0.057\n",
      "debt_consolidation    -0.3608      0.120     -3.011      0.003      -0.596      -0.126\n",
      "home_improvement      -0.4607      0.214     -2.149      0.032      -0.881      -0.041\n",
      "major_purchase        -0.6231      0.263     -2.372      0.018      -1.138      -0.108\n",
      "medical               -1.3105      0.473     -2.772      0.006      -2.237      -0.384\n",
      "other                 -0.6615      0.171     -3.869      0.000      -0.997      -0.326\n",
      "small_business        -1.0421      0.291     -3.585      0.000      -1.612      -0.472\n",
      "======================================================================================\n"
     ]
    }
   ],
   "source": [
    "logit_reg_sm = sm.GLM(y_train, sm.add_constant(X_train), \n",
    "                      family=sm.families.Binomial())\n",
    "logit_result = logit_reg_sm.fit()\n",
    "print(logit_result.summary())"
   ]
  },
  {
   "cell_type": "markdown",
   "metadata": {},
   "source": [
    "# Evaluating Classification Models\n",
    "## Confusion Matrix"
   ]
  },
  {
   "cell_type": "markdown",
   "metadata": {},
   "source": [
    "###### Let's take a look how different predictin looks like"
   ]
  },
  {
   "cell_type": "code",
   "execution_count": 63,
   "metadata": {},
   "outputs": [
    {
     "data": {
      "text/plain": [
       "array([1, 1, 0, 0, 0, 1, 0, 0, 1, 1, 1, 1, 0, 1, 0, 1, 1, 1, 0, 0, 0, 1,\n",
       "       1, 0, 1, 1, 1, 0, 0, 0, 0, 0, 0, 0, 1, 0, 1, 1, 1, 1, 1, 1, 1, 0,\n",
       "       0, 1, 0, 1, 1, 1, 0, 1, 0, 1, 0, 1, 1, 0, 0, 0, 0, 1, 1, 1, 1, 0,\n",
       "       0, 0, 0, 1, 1, 1, 1, 1, 1, 0, 1, 0, 0, 0, 1, 1, 0, 1, 1, 1, 1, 1,\n",
       "       1, 1, 1, 0, 0, 0, 1, 0, 0, 1, 1, 1, 1, 0, 0, 1, 0, 0, 0, 0, 0, 0,\n",
       "       1, 0, 0, 1, 1, 1, 1, 0, 0, 1, 1, 0, 0, 1, 1, 1, 1, 0, 0, 1, 1, 1,\n",
       "       0, 0, 0, 0, 1, 0, 1, 1, 0, 0, 0, 0, 0, 1, 1, 1, 0, 1, 0, 0, 1, 0,\n",
       "       1, 0, 0, 0, 1, 1, 1, 0, 0, 0, 1, 0, 1, 1, 0, 0, 0, 0, 0, 1, 0, 0,\n",
       "       0, 0, 1, 0, 1, 0, 1, 0, 0, 0, 0, 1, 0, 0, 0, 0, 0, 0, 1, 0, 1, 1,\n",
       "       0, 1, 0, 1, 0, 0, 1, 1, 0, 1, 0, 1, 1, 0, 0, 0, 1, 1, 0, 1, 1, 0,\n",
       "       0, 0, 0, 1, 1, 0, 1, 1, 0, 1, 1, 0, 1, 1, 0, 1, 0, 0, 0, 1, 1, 1,\n",
       "       0, 1, 0, 0, 0, 1, 0, 1, 1, 1, 1, 0, 0, 1, 0, 0, 0, 0, 0, 1, 1, 1,\n",
       "       0, 1, 1, 0, 0, 0, 1, 1, 1, 0, 0, 1, 1, 0, 1, 0, 0, 0, 0, 0, 0, 1,\n",
       "       1, 0, 1, 0, 1, 1, 1, 1, 1, 1, 0, 1, 0, 1, 1, 1, 0, 0, 0, 1, 0, 0,\n",
       "       0, 0, 0, 1, 1, 1, 0, 1, 0, 0, 1, 0, 1, 1, 0, 1, 1, 0, 0, 1, 0, 0,\n",
       "       1, 0, 0, 1, 0, 0, 1, 0, 1, 1, 1, 1, 1, 0, 0, 0, 0, 0, 0, 0, 1, 0,\n",
       "       1, 1, 1, 1, 0, 0, 1, 1, 0, 1, 1, 1, 0, 0, 1, 0, 0, 0, 0, 1, 1, 1,\n",
       "       0, 0, 0, 1, 1, 1, 0, 0, 1, 0, 0, 1, 0, 0, 0, 0, 0, 0, 0, 1, 0, 0,\n",
       "       1, 1, 0, 1, 0, 1, 0, 1, 1, 0, 1, 0, 1, 0, 0, 1, 1, 0, 0, 1, 0, 0,\n",
       "       0, 0, 0, 1, 0, 1, 0, 0, 0, 1, 0, 1, 0, 0, 0, 0, 1, 1, 0, 0, 1, 0,\n",
       "       1, 0, 0, 0, 0, 1, 0, 0, 1, 0, 0, 0, 0, 0, 1, 0, 1, 0, 1, 1, 0, 0,\n",
       "       1, 0, 1, 0, 1, 1, 1, 0, 1, 0, 0, 1, 1, 0, 0, 1, 1, 0, 0, 0, 1, 1,\n",
       "       0, 0, 0, 0, 0, 0, 0, 1, 1, 1, 1, 0, 0, 1, 0, 1, 1, 0, 1, 1, 1, 1,\n",
       "       0, 1, 1, 1, 1, 1, 0, 1, 0, 1, 1, 1, 0, 1, 1, 0, 1, 1, 0, 0, 0, 1,\n",
       "       0, 1, 1, 0, 0, 1, 0, 1, 0, 1, 1, 0, 1, 1, 0, 1, 0, 0, 0, 1, 0, 1,\n",
       "       1, 1, 0, 0, 1, 0, 1, 1, 1, 1, 0, 0, 1, 1, 1, 1, 1, 1, 1, 1, 0, 1,\n",
       "       1, 0, 0, 0, 1, 1, 0, 1, 0, 1, 0, 0, 1, 0, 1, 1, 1, 0, 0, 1, 1, 1,\n",
       "       1, 0, 1, 0, 1, 1], dtype=int64)"
      ]
     },
     "execution_count": 63,
     "metadata": {},
     "output_type": "execute_result"
    }
   ],
   "source": [
    "logit_reg2.predict(X_test)"
   ]
  },
  {
   "cell_type": "code",
   "execution_count": 64,
   "metadata": {},
   "outputs": [
    {
     "data": {
      "text/plain": [
       "array([[0.41593956, 0.58406044],\n",
       "       [0.26571317, 0.73428683],\n",
       "       [0.61850341, 0.38149659],\n",
       "       ...,\n",
       "       [0.57077309, 0.42922691],\n",
       "       [0.47098791, 0.52901209],\n",
       "       [0.34782629, 0.65217371]])"
      ]
     },
     "execution_count": 64,
     "metadata": {},
     "output_type": "execute_result"
    }
   ],
   "source": [
    "logit_reg2.predict_proba(X_test)"
   ]
  },
  {
   "cell_type": "markdown",
   "metadata": {},
   "source": [
    "##### Manully create confusion matrix"
   ]
  },
  {
   "cell_type": "code",
   "execution_count": 65,
   "metadata": {},
   "outputs": [
    {
     "name": "stdout",
     "output_type": "stream",
     "text": [
      "\n",
      "Confusion Matrix in 1D array\n",
      " True  Pred\n",
      "0     0       190\n",
      "      1       121\n",
      "1     0       116\n",
      "      1       173\n",
      "dtype: int64\n",
      "\n",
      "Confusion Matrix in 2 by 2 Table Format\n",
      " Pred    0    1\n",
      "True          \n",
      "0     190  121\n",
      "1     116  173\n",
      "\n",
      "Confusion Matrix in 2 by 2 Re-orgnized Table Format\n",
      "               Yhat = default  Yhat = paid off\n",
      "Y = default              173              116\n",
      "Y = paid off             121              190\n"
     ]
    }
   ],
   "source": [
    "# Confusion matrix\n",
    "pred_y = logit_reg2.predict(X_test)\n",
    "true_y = y_test \n",
    "true_pred = pd.DataFrame({'True': true_y, 'Pred': pred_y})\n",
    "true_pred['Cnt'] = [1] *len(true_y)\n",
    "confM=true_pred.groupby(['True', 'Pred']).size()\n",
    "\n",
    "print(\"\\nConfusion Matrix in 1D array\\n {}\".format(confM))\n",
    "\n",
    "print(\"\\nConfusion Matrix in 2 by 2 Table Format\\n {}\".format(pd.pivot_table(true_pred, values='Cnt', index=['True'],\n",
    "                    columns=['Pred'], aggfunc=np.sum)))\n",
    "\n",
    "conf_matorg = pd.DataFrame([[confM[1,1], confM[1,0]], [confM[0,1], confM[0,0]]],\n",
    "                       index=['Y = default', 'Y = paid off'],\n",
    "                       columns=['Yhat = default', 'Yhat = paid off'])\n",
    "print(\"\\nConfusion Matrix in 2 by 2 Re-orgnized Table Format\\n {}\".format(conf_matorg))"
   ]
  },
  {
   "cell_type": "markdown",
   "metadata": {},
   "source": [
    "##### Acouple existing function in packages provice confusion matrix"
   ]
  },
  {
   "cell_type": "code",
   "execution_count": 66,
   "metadata": {},
   "outputs": [
    {
     "name": "stdout",
     "output_type": "stream",
     "text": [
      "[[190 121]\n",
      " [116 173]]\n"
     ]
    }
   ],
   "source": [
    "print(confusion_matrix(y_test, logit_reg2.predict(X_test)))"
   ]
  },
  {
   "cell_type": "markdown",
   "metadata": {},
   "source": [
    "The package _dmba_ contains the function `classificationSummary` that prints confusion matrix and accuracy for a classification model. "
   ]
  },
  {
   "cell_type": "code",
   "execution_count": 67,
   "metadata": {},
   "outputs": [
    {
     "name": "stdout",
     "output_type": "stream",
     "text": [
      "Confusion Matrix (Accuracy 0.6050)\n",
      "\n",
      "       Prediction\n",
      "Actual   0   1\n",
      "     0 190 121\n",
      "     1 116 173\n"
     ]
    }
   ],
   "source": [
    "classificationSummary(y_test, logit_reg2.predict(X_test), \n",
    "                      class_names=logit_reg2.classes_)"
   ]
  },
  {
   "cell_type": "markdown",
   "metadata": {},
   "source": [
    "## Precision, Recall, and Specificity\n",
    "#### Precision = tp/(tp+fp)\n",
    "#### Recall (Sensitivity) = tp/(tp+fn)\n",
    "#### Specificity = tn/(tn+fp)"
   ]
  },
  {
   "attachments": {
    "prision.png": {
     "image/png": "[encoded data removed]"
    }
   },
   "cell_type": "markdown",
   "metadata": {},
   "source": [
    "![prision.png](attachment:prision.png)"
   ]
  },
  {
   "cell_type": "markdown",
   "metadata": {},
   "source": [
    "##### Task - use \"tn, fp, fn, tp\" to calculate \"Precision,Recall,Specificity\""
   ]
  },
  {
   "cell_type": "code",
   "execution_count": 74,
   "metadata": {},
   "outputs": [
    {
     "name": "stdout",
     "output_type": "stream",
     "text": [
      "Precision:   0.5884353741496599\n",
      "Recall:     0.5986159169550173\n",
      "Specificity: 0.6109324758842444\n"
     ]
    }
   ],
   "source": [
    "tn, fp, fn, tp = confusion_matrix(y_test, logit_reg2.predict(X_test)).ravel()\n",
    "print('Precision:   {}'.format(tp/(fp+tp))) \n",
    "print('Recall:     {}'.format(tp/(tp+fn)))\n",
    "print('Specificity: {}'.format(tn/(tn+fp)))"
   ]
  },
  {
   "cell_type": "markdown",
   "metadata": {},
   "source": [
    "##### Task - use \"conf_mat\" to calculate \"Precision,Recball,Specificity\""
   ]
  },
  {
   "cell_type": "code",
   "execution_count": 75,
   "metadata": {},
   "outputs": [
    {
     "name": "stdout",
     "output_type": "stream",
     "text": [
      "Precision 0.5884353741496599\n",
      "Recall 0.5986159169550173\n",
      "Specificity 0.6109324758842444\n"
     ]
    }
   ],
   "source": [
    "conf_mat = confusion_matrix(y_test, logit_reg2.predict(X_test))\n",
    "print('Precision', (conf_mat[1][1])/(conf_mat[0][1]+conf_mat[1][1]))\n",
    "print('Recall', conf_mat[1][1]/conf_mat[1].sum())\n",
    "print('Specificity', conf_mat[0][0]/conf_mat[0].sum())"
   ]
  },
  {
   "cell_type": "markdown",
   "metadata": {},
   "source": [
    "The _scikit-learn_ function `precision_recall_fscore_support` returns\n",
    "precision, recall, fbeta_score and support. "
   ]
  },
  {
   "cell_type": "code",
   "execution_count": 76,
   "metadata": {},
   "outputs": [
    {
     "data": {
      "text/plain": [
       "(array([0.62091503, 0.58843537]),\n",
       " array([0.61093248, 0.59861592]),\n",
       " array([0.61588331, 0.59348199]),\n",
       " array([311, 289], dtype=int64))"
      ]
     },
     "execution_count": 76,
     "metadata": {},
     "output_type": "execute_result"
    }
   ],
   "source": [
    "precision_recall_fscore_support(y_test, logit_reg2.predict(X_test), \n",
    "                                labels=[0, 1])"
   ]
  },
  {
   "cell_type": "code",
   "execution_count": 77,
   "metadata": {},
   "outputs": [
    {
     "name": "stdout",
     "output_type": "stream",
     "text": [
      "              precision    recall  f1-score   support\n",
      "\n",
      "    paid off       0.62      0.61      0.62       311\n",
      "     default       0.59      0.60      0.59       289\n",
      "\n",
      "    accuracy                           0.60       600\n",
      "   macro avg       0.60      0.60      0.60       600\n",
      "weighted avg       0.61      0.60      0.61       600\n",
      "\n"
     ]
    }
   ],
   "source": [
    "from sklearn.metrics import classification_report\n",
    "target_names = ['paid off', 'default']\n",
    "print(classification_report(true_y, pred_y, target_names=target_names))"
   ]
  },
  {
   "cell_type": "markdown",
   "metadata": {},
   "source": [
    "## ROC Curve\n",
    "The function `roc_curve` in _Scikit-learn_ calculates all the information that is required for plotting a ROC curve."
   ]
  },
  {
   "cell_type": "code",
   "execution_count": 81,
   "metadata": {},
   "outputs": [
    {
     "data": {
      "image/png": "[encoded data removed]",
      "text/plain": [
       "<Figure size 288x288 with 1 Axes>"
      ]
     },
     "metadata": {
      "needs_background": "light"
     },
     "output_type": "display_data"
    }
   ],
   "source": [
    "fpr, tpr, thresholds = roc_curve(y_test, (logit_reg2.predict_proba(X_test)[:, 1]), \n",
    "                                 pos_label=1)\n",
    "roc_df = pd.DataFrame({'recall': tpr, 'specificity': 1 - fpr})\n",
    "\n",
    "ax = roc_df.plot(x='specificity', y='recall', figsize=(4, 4), legend=False)\n",
    "ax.set_ylim(0, 1)\n",
    "ax.set_xlim(1, 0)\n",
    "ax.plot((1, 0), (0, 1))\n",
    "ax.set_xlabel('specificity')\n",
    "ax.set_ylabel('recall')\n",
    "\n",
    "plt.tight_layout()\n",
    "plt.show()"
   ]
  },
  {
   "cell_type": "markdown",
   "metadata": {},
   "source": [
    "## AUC\n",
    "Accuracy can easily be calculated using the _scikit-learn_ function `accuracy_score`."
   ]
  },
  {
   "cell_type": "code",
   "execution_count": 82,
   "metadata": {},
   "outputs": [
    {
     "name": "stdout",
     "output_type": "stream",
     "text": [
      "0.6756416960580336\n",
      "0.6756416960580336\n"
     ]
    }
   ],
   "source": [
    "print(np.sum(roc_df.recall[:-1] * np.diff(1 - roc_df.specificity)))\n",
    "print(roc_auc_score(y_test, (logit_reg2.predict_proba(X_test)[:, 1])))"
   ]
  },
  {
   "cell_type": "code",
   "execution_count": 83,
   "metadata": {},
   "outputs": [
    {
     "data": {
      "image/png": "[encoded data removed]",
      "text/plain": [
       "<Figure size 288x288 with 1 Axes>"
      ]
     },
     "metadata": {
      "needs_background": "light"
     },
     "output_type": "display_data"
    }
   ],
   "source": [
    "fpr, tpr, thresholds = roc_curve(y_test, (logit_reg.predict_proba(X_test)[:,0]), \n",
    "                                 pos_label=1)\n",
    "roc_df = pd.DataFrame({'recall': tpr, 'specificity': 1 - fpr})\n",
    "\n",
    "ax = roc_df.plot(x='specificity', y='recall', figsize=(4, 4), legend=False)\n",
    "ax.set_ylim(0, 1)\n",
    "ax.set_xlim(1, 0)\n",
    "# ax.plot((1, 0), (0, 1))\n",
    "ax.set_xlabel('specificity')\n",
    "ax.set_ylabel('recall')\n",
    "ax.fill_between(roc_df.specificity, 0, roc_df.recall, alpha=0.3)\n",
    "\n",
    "\n",
    "plt.tight_layout()\n",
    "plt.show()"
   ]
  },
  {
   "cell_type": "markdown",
   "metadata": {},
   "source": [
    "## F1 Score \n",
    "### F1 = 2 * Precision* Recall/(Precision + Recall)"
   ]
  },
  {
   "cell_type": "markdown",
   "metadata": {},
   "source": [
    "##### Task - Calculate F1 score for 'default'"
   ]
  },
  {
   "cell_type": "code",
   "execution_count": 85,
   "metadata": {},
   "outputs": [
    {
     "name": "stdout",
     "output_type": "stream",
     "text": [
      "Precision:   0.5884353741496599\n",
      "Recall:     0.5986159169550173\n",
      "F1 SCORE for Default:  0.5934819897084047\n"
     ]
    }
   ],
   "source": [
    "print('Precision:   {}'.format(tp/(fp+tp))) \n",
    "pre = tp/(fp+tp)\n",
    "print('Recall:     {}'.format(tp/(tp+fn)))\n",
    "rec = tp/(tp+fn)\n",
    "print('F1 SCORE for Default:  {}'.format(2*pre*rec/(pre+rec)))"
   ]
  }
 ],
 "metadata": {
  "kernelspec": {
   "display_name": "Python 3",
   "language": "python",
   "name": "python3"
  },
  "language_info": {
   "codemirror_mode": {
    "name": "ipython",
    "version": 3
   },
   "file_extension": ".py",
   "mimetype": "text/x-python",
   "name": "python",
   "nbconvert_exporter": "python",
   "pygments_lexer": "ipython3",
   "version": "3.7.3"
  }
 },
 "nbformat": 4,
 "nbformat_minor": 2
}
