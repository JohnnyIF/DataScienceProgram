{
 "cells": [
  {
   "cell_type": "markdown",
   "metadata": {},
   "source": [
    "# This practice will cover learning points in class2\n",
    "### 1 - Fit MLR model in python with sklearn and statesmodel packages\n",
    "### 2 - Model Selection\n",
    "### 3 - Weighted regression\n",
    "### 4 - Regularization, L1 and L2"
   ]
  },
  {
   "cell_type": "markdown",
   "metadata": {},
   "source": [
    "Import required Python packages."
   ]
  },
  {
   "cell_type": "code",
   "execution_count": 6,
   "metadata": {},
   "outputs": [],
   "source": [
    "from pathlib import Path\n",
    "import os\n",
    "import pandas as pd\n",
    "import numpy as np\n",
    "\n",
    "from sklearn.model_selection import train_test_split\n",
    "\n",
    "from sklearn.metrics import r2_score, mean_squared_error\n",
    "from sklearn.linear_model import LinearRegression, RidgeCV, LassoCV, ElasticNetCV\n",
    "\n",
    "import statsmodels.api as sm\n",
    "\n",
    "import seaborn as sns\n",
    "import matplotlib.pyplot as plt\n",
    "\n",
    "from dmba import stepwise_selection\n",
    "from dmba import AIC_score\n",
    "\n",
    "%matplotlib inline"
   ]
  },
  {
   "cell_type": "markdown",
   "metadata": {},
   "source": [
    "Define paths to data sets. If you don't keep your data in the same directory as the code, adapt the path names."
   ]
  },
  {
   "cell_type": "code",
   "execution_count": 7,
   "metadata": {},
   "outputs": [],
   "source": [
    "DATA = Path('.').resolve().parents[1] / 'Practice\\mlr'\n",
    "\n",
    "HOUSE_CSV = DATA / 'house_sales.csv'"
   ]
  },
  {
   "cell_type": "code",
   "execution_count": 8,
   "metadata": {},
   "outputs": [
    {
     "name": "stdout",
     "output_type": "stream",
     "text": [
      "C:\\Users\\johnn\\Desktop\\github\\DataScienceProgram\\Class2\\Practice\\mlr\n",
      "C:\\Users\\johnn\\Desktop\\github\\DataScienceProgram\\Class2\\Practice\\mlr\\house_sales.csv\n"
     ]
    }
   ],
   "source": [
    "print(DATA)\n",
    "\n",
    "print(HOUSE_CSV)"
   ]
  },
  {
   "cell_type": "markdown",
   "metadata": {},
   "source": [
    "#### Data read and train-test split"
   ]
  },
  {
   "cell_type": "code",
   "execution_count": 9,
   "metadata": {},
   "outputs": [
    {
     "name": "stdout",
     "output_type": "stream",
     "text": [
      "      DocumentDate  SalePrice  PropertyID   PropertyType          ym  zhvi_px  \\\n",
      "21624   2006-11-03     408265  7853300660  Single Family  2006-11-01   421200   \n",
      "21139   2006-02-27     780000  7774200210  Single Family  2006-02-01   387600   \n",
      "16682   2015-04-10     330000  5634500392  Single Family  2015-04-01   429900   \n",
      "18279   2013-08-23     624900  6681500080  Single Family  2013-08-01   374300   \n",
      "15412   2011-12-26     217000  5104510190  Single Family  2011-12-01   311900   \n",
      "\n",
      "       zhvi_idx  AdjSalePrice  NbrLivingUnits  SqFtLot  ...  Bathrooms  \\\n",
      "21624  0.967831      421835.0               1     4400  ...        2.5   \n",
      "21139  0.890625      875789.0               1    16888  ...        2.5   \n",
      "16682  0.987822      334068.0               1    13959  ...        3.0   \n",
      "18279  0.860064      726574.0               1     4800  ...        2.0   \n",
      "15412  0.716682      302784.0               1     4694  ...        2.5   \n",
      "\n",
      "       Bedrooms  BldgGrade  YrBuilt  YrRenovated  TrafficNoise  LandVal  \\\n",
      "21624         3          7     2006            0             0   179000   \n",
      "21139         4         10     1991            0             0   256000   \n",
      "16682         3          8     1988            0             0   246000   \n",
      "18279         3          7     1915            0             0   291000   \n",
      "15412         4          7     2003            0             0    91000   \n",
      "\n",
      "       ImpsVal  ZipCode  NewConstruction  \n",
      "21624   208000    98065             True  \n",
      "21139   658000    98146            False  \n",
      "16682   247000    98028            False  \n",
      "18279   300000    98199            False  \n",
      "15412   208000    98038            False  \n",
      "\n",
      "[5 rows x 22 columns]\n",
      "(18149, 22)\n",
      "      DocumentDate  SalePrice  PropertyID   PropertyType          ym  zhvi_px  \\\n",
      "22830   2007-08-23     690000  8106300510  Single Family  2007-08-01   434600   \n",
      "1421    2010-01-21     270000   534000121      Townhouse  2010-01-01   350800   \n",
      "24326   2010-04-23     419000  8818900185  Single Family  2010-04-01   349100   \n",
      "1786    2006-02-16     439000   723039171  Single Family  2006-02-01   387600   \n",
      "8901    2006-01-23     395000  2771104890  Single Family  2006-01-01   383200   \n",
      "\n",
      "       zhvi_idx  AdjSalePrice  NbrLivingUnits  SqFtLot  ...  Bathrooms  \\\n",
      "22830  0.998621      690953.0               1     6129  ...       2.50   \n",
      "1421   0.806066      334960.0               1      876  ...       2.50   \n",
      "24326  0.802160      522340.0               1     4080  ...       1.00   \n",
      "1786   0.890625      492912.0               1    40755  ...       1.75   \n",
      "8901   0.880515      448601.0               1     5800  ...       1.00   \n",
      "\n",
      "       Bedrooms  BldgGrade  YrBuilt  YrRenovated  TrafficNoise  LandVal  \\\n",
      "22830         5          9     2004            0             0   131000   \n",
      "1421          2          7     2008            0             0    92000   \n",
      "24326         2          7     1918            0             2   268000   \n",
      "1786          3          7     1925            0             2    99000   \n",
      "8901          1          7     1920            0             0   710000   \n",
      "\n",
      "       ImpsVal  ZipCode  NewConstruction  \n",
      "22830   355000    98055            False  \n",
      "1421    245000    98117             True  \n",
      "24326   227000    98105            False  \n",
      "1786    253000    98070            False  \n",
      "8901     30000    98119            False  \n",
      "\n",
      "[5 rows x 22 columns]\n",
      "(4538, 22)\n"
     ]
    }
   ],
   "source": [
    "houseall = pd.read_csv(HOUSE_CSV, sep='\\t')\n",
    "\n",
    "house, house_test = train_test_split(houseall, test_size=0.2)\n",
    "\n",
    "print(house.head())\n",
    "print(house.shape)\n",
    "\n",
    "print(house_test.head())\n",
    "print(house_test.shape)"
   ]
  },
  {
   "cell_type": "markdown",
   "metadata": {},
   "source": [
    "We can use the `LinearRegression` model from _scikit-learn_."
   ]
  },
  {
   "cell_type": "markdown",
   "metadata": {},
   "source": [
    "## 1 - Multiple Linear Regression (SKlearn)"
   ]
  },
  {
   "cell_type": "code",
   "execution_count": 10,
   "metadata": {},
   "outputs": [
    {
     "name": "stdout",
     "output_type": "stream",
     "text": [
      "       AdjSalePrice  SqFtTotLiving  SqFtLot  Bathrooms  Bedrooms  BldgGrade\n",
      "21624      421835.0           1960     4400        2.5         3          7\n",
      "21139      875789.0           3290    16888        2.5         4         10\n",
      "16682      334068.0           2420    13959        3.0         3          8\n",
      "18279      726574.0           2230     4800        2.0         3          7\n",
      "15412      302784.0           1830     4694        2.5         4          7\n"
     ]
    }
   ],
   "source": [
    "subset = ['AdjSalePrice', 'SqFtTotLiving', 'SqFtLot', 'Bathrooms', \n",
    "          'Bedrooms', 'BldgGrade']\n",
    "\n",
    "print(house[subset].head())"
   ]
  },
  {
   "cell_type": "code",
   "execution_count": 11,
   "metadata": {},
   "outputs": [
    {
     "name": "stdout",
     "output_type": "stream",
     "text": [
      "      DocumentDate  SalePrice  PropertyID   PropertyType          ym  zhvi_px  \\\n",
      "21624   2006-11-03     408265  7853300660  Single Family  2006-11-01   421200   \n",
      "21139   2006-02-27     780000  7774200210  Single Family  2006-02-01   387600   \n",
      "16682   2015-04-10     330000  5634500392  Single Family  2015-04-01   429900   \n",
      "18279   2013-08-23     624900  6681500080  Single Family  2013-08-01   374300   \n",
      "15412   2011-12-26     217000  5104510190  Single Family  2011-12-01   311900   \n",
      "\n",
      "       zhvi_idx  AdjSalePrice  NbrLivingUnits  SqFtLot  ...  Bathrooms  \\\n",
      "21624  0.967831      421835.0               1     4400  ...        2.5   \n",
      "21139  0.890625      875789.0               1    16888  ...        2.5   \n",
      "16682  0.987822      334068.0               1    13959  ...        3.0   \n",
      "18279  0.860064      726574.0               1     4800  ...        2.0   \n",
      "15412  0.716682      302784.0               1     4694  ...        2.5   \n",
      "\n",
      "       Bedrooms  BldgGrade  YrBuilt  YrRenovated  TrafficNoise  LandVal  \\\n",
      "21624         3          7     2006            0             0   179000   \n",
      "21139         4         10     1991            0             0   256000   \n",
      "16682         3          8     1988            0             0   246000   \n",
      "18279         3          7     1915            0             0   291000   \n",
      "15412         4          7     2003            0             0    91000   \n",
      "\n",
      "       ImpsVal  ZipCode  NewConstruction  \n",
      "21624   208000    98065             True  \n",
      "21139   658000    98146            False  \n",
      "16682   247000    98028            False  \n",
      "18279   300000    98199            False  \n",
      "15412   208000    98038            False  \n",
      "\n",
      "[5 rows x 22 columns]\n",
      "Index(['DocumentDate', 'SalePrice', 'PropertyID', 'PropertyType', 'ym',\n",
      "       'zhvi_px', 'zhvi_idx', 'AdjSalePrice', 'NbrLivingUnits', 'SqFtLot',\n",
      "       'SqFtTotLiving', 'SqFtFinBasement', 'Bathrooms', 'Bedrooms',\n",
      "       'BldgGrade', 'YrBuilt', 'YrRenovated', 'TrafficNoise', 'LandVal',\n",
      "       'ImpsVal', 'ZipCode', 'NewConstruction'],\n",
      "      dtype='object')\n"
     ]
    }
   ],
   "source": [
    "print(house.head())\n",
    "print(house.columns)"
   ]
  },
  {
   "cell_type": "code",
   "execution_count": 12,
   "metadata": {},
   "outputs": [
    {
     "name": "stdout",
     "output_type": "stream",
     "text": [
      "Intercept: -489408.137\n",
      "Coefficients:\n",
      " SqFtTotLiving: 238.7382616652007\n",
      " SqFtLot: -0.0679168843235053\n",
      " Bathrooms: -18377.232584562866\n",
      " Bedrooms: -54038.50975203022\n",
      " BldgGrade: 101749.08972266875\n"
     ]
    }
   ],
   "source": [
    "predictors = ['SqFtTotLiving', 'SqFtLot', 'Bathrooms', \n",
    "              'Bedrooms', 'BldgGrade']\n",
    "outcome = 'AdjSalePrice'\n",
    "\n",
    "house_lm = LinearRegression()\n",
    "house_lm.fit(house[predictors], house[outcome])\n",
    "\n",
    "print(f'Intercept: {house_lm.intercept_:.3f}')\n",
    "print('Coefficients:')\n",
    "for name, coef in zip(predictors, house_lm.coef_):\n",
    "    print(f' {name}: {coef}')"
   ]
  },
  {
   "cell_type": "markdown",
   "metadata": {},
   "source": [
    "### Assessing the Model with performance KPIs\n",
    "_Scikit-learn_ provides a number of metrics to determine the quality of a model. Here we use the `r2_score` and `RMSE`."
   ]
  },
  {
   "cell_type": "code",
   "execution_count": 13,
   "metadata": {},
   "outputs": [
    {
     "name": "stdout",
     "output_type": "stream",
     "text": [
      "RMSE: 263537\n",
      "r2: 0.5408\n",
      "RMSE_test: 252041\n",
      "r2_test: 0.5385\n"
     ]
    }
   ],
   "source": [
    "fitted = house_lm.predict(house[predictors])\n",
    "RMSE = np.sqrt(mean_squared_error(house[outcome], fitted))\n",
    "r2 = r2_score(house[outcome], fitted)\n",
    "print(f'RMSE: {RMSE:.0f}')\n",
    "print(f'r2: {r2:.4f}')\n",
    "\n",
    "fitted_test = house_lm.predict(house_test[predictors])\n",
    "RMSE_test = np.sqrt(mean_squared_error(house_test[outcome], fitted_test))\n",
    "r2_test = r2_score(house_test[outcome], fitted_test)\n",
    "print(f'RMSE_test: {RMSE_test:.0f}')\n",
    "print(f'r2_test: {r2_test:.4f}')"
   ]
  },
  {
   "cell_type": "markdown",
   "metadata": {},
   "source": [
    "## 1 - Multiple Linear Regression (statsmodels)"
   ]
  },
  {
   "cell_type": "markdown",
   "metadata": {},
   "source": [
    "While _scikit-learn_ provides a variety of different metrics, _statsmodels_ provides a more in-depth analysis of the linear regression model. This package has two different ways of specifying the model, one that is similar to _scikit-learn_ and one that allows specifying _R_-style formulas. Here we use the first approach. As _statsmodels_ doesn't add an intercept automaticaly, we need to add a constant column with value 1 to the predictors. We can use the _pandas_ method assign for this."
   ]
  },
  {
   "cell_type": "code",
   "execution_count": 14,
   "metadata": {},
   "outputs": [
    {
     "name": "stdout",
     "output_type": "stream",
     "text": [
      "                            OLS Regression Results                            \n",
      "==============================================================================\n",
      "Dep. Variable:           AdjSalePrice   R-squared:                       0.541\n",
      "Model:                            OLS   Adj. R-squared:                  0.541\n",
      "Method:                 Least Squares   F-statistic:                     4273.\n",
      "Date:                Thu, 18 Jun 2020   Prob (F-statistic):               0.00\n",
      "Time:                        22:40:12   Log-Likelihood:            -2.5229e+05\n",
      "No. Observations:               18149   AIC:                         5.046e+05\n",
      "Df Residuals:                   18143   BIC:                         5.046e+05\n",
      "Df Model:                           5                                         \n",
      "Covariance Type:            nonrobust                                         \n",
      "=================================================================================\n",
      "                    coef    std err          t      P>|t|      [0.025      0.975]\n",
      "---------------------------------------------------------------------------------\n",
      "SqFtTotLiving   238.7383      4.424     53.960      0.000     230.066     247.410\n",
      "SqFtLot          -0.0679      0.068     -1.001      0.317      -0.201       0.065\n",
      "Bathrooms     -1.838e+04   4098.295     -4.484      0.000   -2.64e+04   -1.03e+04\n",
      "Bedrooms      -5.404e+04   2925.761    -18.470      0.000   -5.98e+04   -4.83e+04\n",
      "BldgGrade      1.017e+05   2703.874     37.631      0.000    9.64e+04    1.07e+05\n",
      "const         -4.894e+05   1.79e+04    -27.395      0.000   -5.24e+05   -4.54e+05\n",
      "==============================================================================\n",
      "Omnibus:                    24056.055   Durbin-Watson:                   2.016\n",
      "Prob(Omnibus):                  0.000   Jarque-Bera (JB):         17277958.161\n",
      "Skew:                           7.031   Prob(JB):                         0.00\n",
      "Kurtosis:                     153.500   Cond. No.                     2.94e+05\n",
      "==============================================================================\n",
      "\n",
      "Warnings:\n",
      "[1] Standard Errors assume that the covariance matrix of the errors is correctly specified.\n",
      "[2] The condition number is large, 2.94e+05. This might indicate that there are\n",
      "strong multicollinearity or other numerical problems.\n"
     ]
    }
   ],
   "source": [
    "mlr_sm = sm.OLS(house[outcome], house[predictors].assign(const=1))\n",
    "results = mlr_sm.fit()\n",
    "print(results.summary())"
   ]
  },
  {
   "cell_type": "markdown",
   "metadata": {},
   "source": [
    "### Correlations between predictors"
   ]
  },
  {
   "cell_type": "code",
   "execution_count": 15,
   "metadata": {},
   "outputs": [
    {
     "name": "stdout",
     "output_type": "stream",
     "text": [
      "Correlation Matrix \n",
      "                SqFtTotLiving   SqFtLot  Bathrooms  Bedrooms  BldgGrade\n",
      "SqFtTotLiving       1.000000  0.198984   0.765443  0.613406   0.769775\n",
      "SqFtLot             0.198984  1.000000   0.107266  0.070775   0.144034\n",
      "Bathrooms           0.765443  0.107266   1.000000  0.551266   0.656486\n",
      "Bedrooms            0.613406  0.070775   0.551266  1.000000   0.373842\n",
      "BldgGrade           0.769775  0.144034   0.656486  0.373842   1.000000\n"
     ]
    },
    {
     "data": {
      "text/plain": [
       "[Text(0.5, 0, 'SqFtTotLiving'),\n",
       " Text(1.5, 0, 'SqFtLot'),\n",
       " Text(2.5, 0, 'Bathrooms'),\n",
       " Text(3.5, 0, 'Bedrooms'),\n",
       " Text(4.5, 0, 'BldgGrade')]"
      ]
     },
     "execution_count": 15,
     "metadata": {},
     "output_type": "execute_result"
    },
    {
     "data": {
      "image/png": "[encoded data removed]",
      "text/plain": [
       "<Figure size 432x288 with 2 Axes>"
      ]
     },
     "metadata": {
      "needs_background": "light"
     },
     "output_type": "display_data"
    }
   ],
   "source": [
    "corr = house[predictors].corr()\n",
    "print(\"Correlation Matrix \\n {}\".format(corr))\n",
    "\n",
    "ax = sns.heatmap(\n",
    "    corr, \n",
    "    vmin=-1, vmax=1, center=0,\n",
    "    cmap=sns.diverging_palette(20, 220, n=200),\n",
    "    square=True\n",
    ")\n",
    "ax.set_xticklabels(\n",
    "    ax.get_xticklabels(),\n",
    "    rotation=45,\n",
    "    horizontalalignment='right'\n",
    ")"
   ]
  },
  {
   "cell_type": "markdown",
   "metadata": {},
   "source": [
    "## 2 - Model Selection and Stepwise Regression"
   ]
  },
  {
   "cell_type": "code",
   "execution_count": 16,
   "metadata": {},
   "outputs": [
    {
     "name": "stdout",
     "output_type": "stream",
     "text": [
      "       SqFtTotLiving  SqFtLot  Bathrooms  Bedrooms  BldgGrade   PropertyType  \\\n",
      "21624           1960     4400        2.5         3          7  Single Family   \n",
      "21139           3290    16888        2.5         4         10  Single Family   \n",
      "16682           2420    13959        3.0         3          8  Single Family   \n",
      "18279           2230     4800        2.0         3          7  Single Family   \n",
      "15412           1830     4694        2.5         4          7  Single Family   \n",
      "\n",
      "       NbrLivingUnits  SqFtFinBasement  YrBuilt  YrRenovated  NewConstruction  \n",
      "21624               1                0     2006            0             True  \n",
      "21139               1             1190     1991            0            False  \n",
      "16682               1              680     1988            0            False  \n",
      "18279               1              940     1915            0            False  \n",
      "15412               1                0     2003            0            False  \n",
      "\n",
      " PropertyType List \n",
      "Single Family    16602\n",
      "Townhouse         1351\n",
      "Multiplex          196\n",
      "Name: PropertyType, dtype: int64\n",
      "\n",
      "Predictors after nominal varibale(s) treatment: (18149, 12) \n",
      "\n",
      "\n",
      "                            OLS Regression Results                            \n",
      "==============================================================================\n",
      "Dep. Variable:           AdjSalePrice   R-squared:                       0.594\n",
      "Model:                            OLS   Adj. R-squared:                  0.594\n",
      "Method:                 Least Squares   F-statistic:                     2215.\n",
      "Date:                Thu, 18 Jun 2020   Prob (F-statistic):               0.00\n",
      "Time:                        22:40:38   Log-Likelihood:            -2.5116e+05\n",
      "No. Observations:               18149   AIC:                         5.023e+05\n",
      "Df Residuals:                   18136   BIC:                         5.024e+05\n",
      "Df Model:                          12                                         \n",
      "Covariance Type:            nonrobust                                         \n",
      "==============================================================================================\n",
      "                                 coef    std err          t      P>|t|      [0.025      0.975]\n",
      "----------------------------------------------------------------------------------------------\n",
      "SqFtTotLiving                208.8633      4.787     43.630      0.000     199.480     218.246\n",
      "SqFtLot                        0.0585      0.064      0.910      0.363      -0.068       0.184\n",
      "Bathrooms                   4.396e+04   4310.507     10.197      0.000    3.55e+04    5.24e+04\n",
      "Bedrooms                   -5.765e+04   2827.281    -20.391      0.000   -6.32e+04   -5.21e+04\n",
      "BldgGrade                    1.33e+05   2755.809     48.255      0.000    1.28e+05    1.38e+05\n",
      "NbrLivingUnits              2.284e+04   1.96e+04      1.164      0.244   -1.56e+04    6.13e+04\n",
      "SqFtFinBasement                3.7163      5.235      0.710      0.478      -6.545      13.977\n",
      "YrBuilt                    -3611.8982     87.208    -41.417      0.000   -3782.834   -3440.962\n",
      "YrRenovated                   -2.5191      4.453     -0.566      0.572     -11.247       6.209\n",
      "NewConstruction            -1628.7096   6704.686     -0.243      0.808   -1.48e+04    1.15e+04\n",
      "PropertyType_Single Family  4.614e+04   2.97e+04      1.552      0.121   -1.21e+04    1.04e+05\n",
      "PropertyType_Townhouse        1.1e+05   3.08e+04      3.573      0.000    4.97e+04     1.7e+05\n",
      "const                       6.253e+06   1.75e+05     35.715      0.000    5.91e+06     6.6e+06\n",
      "==============================================================================\n",
      "Omnibus:                    25164.482   Durbin-Watson:                   2.015\n",
      "Prob(Omnibus):                  0.000   Jarque-Bera (JB):         23401764.314\n",
      "Skew:                           7.606   Prob(JB):                         0.00\n",
      "Kurtosis:                     178.256   Cond. No.                     3.04e+06\n",
      "==============================================================================\n",
      "\n",
      "Warnings:\n",
      "[1] Standard Errors assume that the covariance matrix of the errors is correctly specified.\n",
      "[2] The condition number is large, 3.04e+06. This might indicate that there are\n",
      "strong multicollinearity or other numerical problems.\n"
     ]
    }
   ],
   "source": [
    "predictors = ['SqFtTotLiving', 'SqFtLot', 'Bathrooms', 'Bedrooms',\n",
    "              'BldgGrade', 'PropertyType', 'NbrLivingUnits',\n",
    "              'SqFtFinBasement', 'YrBuilt', 'YrRenovated', \n",
    "              'NewConstruction']\n",
    "\n",
    "print(house[predictors].head())\n",
    "\n",
    "print(\"\\n PropertyType List \\n{}\".format(house['PropertyType'].value_counts(dropna=False)))\n",
    "\n",
    "X = pd.get_dummies(house[predictors], drop_first=True)\n",
    "X['NewConstruction'] = [1 if nc else 0 for nc in X['NewConstruction']]\n",
    "\n",
    "print(\"\\nPredictors after nominal varibale(s) treatment: {} \\n\\n\".format(X.shape))\n",
    "\n",
    "house_full = sm.OLS(house[outcome], X.assign(const=1))\n",
    "results = house_full.fit()\n",
    "print(results.summary())"
   ]
  },
  {
   "cell_type": "markdown",
   "metadata": {},
   "source": [
    "We can use the `stepwise_selection` method from the _dmba_ package."
   ]
  },
  {
   "cell_type": "code",
   "execution_count": null,
   "metadata": {},
   "outputs": [],
   "source": [
    "y = house[outcome]\n",
    "\n",
    "def train_model(variables):\n",
    "    if len(variables) == 0:\n",
    "        return None\n",
    "    model = LinearRegression()\n",
    "    model.fit(X[variables], y)\n",
    "    return model\n",
    "\n",
    "def score_model(model, variables):\n",
    "    if len(variables) == 0:\n",
    "        return AIC_score(y, [y.mean()] * len(y), model, df=1)\n",
    "    return AIC_score(y, model.predict(X[variables]), model)\n",
    "\n",
    "best_model, best_variables = stepwise_selection(X.columns, train_model, score_model, \n",
    "                                                verbose=True)\n",
    "\n",
    "print()\n",
    "print(f'Intercept: {best_model.intercept_:.3f}')\n",
    "print('Coefficients:')\n",
    "for name, coef in zip(best_variables, best_model.coef_):\n",
    "    print(f' {name}: {coef}')"
   ]
  },
  {
   "cell_type": "markdown",
   "metadata": {},
   "source": [
    "## 3 - Weighted regression\n",
    "For the house data recent sale price is more relavent for future prediction, old sale data is less reliable, therefore, we like to emphasis the recent sale data by apply more weight. We will use year the house sale to 2005 as weight.\n",
    "\n",
    "We can calculate the Year from the date column using either a list comprehension or the data frame's `apply` method."
   ]
  },
  {
   "cell_type": "code",
   "execution_count": 15,
   "metadata": {},
   "outputs": [
    {
     "name": "stdout",
     "output_type": "stream",
     "text": [
      "\n",
      "DocumentDate List \n",
      "2006-06-28    48\n",
      "2006-07-26    48\n",
      "2006-05-30    45\n",
      "2006-08-24    44\n",
      "2006-06-01    44\n",
      "              ..\n",
      "2015-05-19     1\n",
      "2011-12-07     1\n",
      "2014-12-05     1\n",
      "2012-02-16     1\n",
      "2006-08-20     1\n",
      "Name: DocumentDate, Length: 2461, dtype: int64\n"
     ]
    }
   ],
   "source": [
    "print(\"\\nDocumentDate List \\n{}\".format(house['DocumentDate'].value_counts(dropna=False)))"
   ]
  },
  {
   "cell_type": "code",
   "execution_count": 16,
   "metadata": {},
   "outputs": [
    {
     "name": "stderr",
     "output_type": "stream",
     "text": [
      "C:\\Users\\johnn\\Anaconda3\\lib\\site-packages\\ipykernel_launcher.py:1: SettingWithCopyWarning: \n",
      "A value is trying to be set on a copy of a slice from a DataFrame.\n",
      "Try using .loc[row_indexer,col_indexer] = value instead\n",
      "\n",
      "See the caveats in the documentation: https://pandas.pydata.org/pandas-docs/stable/user_guide/indexing.html#returning-a-view-versus-a-copy\n",
      "  \"\"\"Entry point for launching an IPython kernel.\n",
      "C:\\Users\\johnn\\Anaconda3\\lib\\site-packages\\ipykernel_launcher.py:2: SettingWithCopyWarning: \n",
      "A value is trying to be set on a copy of a slice from a DataFrame.\n",
      "Try using .loc[row_indexer,col_indexer] = value instead\n",
      "\n",
      "See the caveats in the documentation: https://pandas.pydata.org/pandas-docs/stable/user_guide/indexing.html#returning-a-view-versus-a-copy\n",
      "  \n",
      "C:\\Users\\johnn\\Anaconda3\\lib\\site-packages\\ipykernel_launcher.py:3: SettingWithCopyWarning: \n",
      "A value is trying to be set on a copy of a slice from a DataFrame.\n",
      "Try using .loc[row_indexer,col_indexer] = value instead\n",
      "\n",
      "See the caveats in the documentation: https://pandas.pydata.org/pandas-docs/stable/user_guide/indexing.html#returning-a-view-versus-a-copy\n",
      "  This is separate from the ipykernel package so we can avoid doing imports until\n"
     ]
    }
   ],
   "source": [
    "house['Year'] = [int(date.split('-')[0]) for date in house.DocumentDate]  #list comprehension\n",
    "house['Year'] = house.DocumentDate.apply(lambda d: int(d.split('-')[0]))  # apply()\n",
    "house['Weight'] = house.Year - 2005"
   ]
  },
  {
   "cell_type": "code",
   "execution_count": 17,
   "metadata": {},
   "outputs": [
    {
     "data": {
      "text/html": [
       "<div>\n",
       "<style scoped>\n",
       "    .dataframe tbody tr th:only-of-type {\n",
       "        vertical-align: middle;\n",
       "    }\n",
       "\n",
       "    .dataframe tbody tr th {\n",
       "        vertical-align: top;\n",
       "    }\n",
       "\n",
       "    .dataframe thead th {\n",
       "        text-align: right;\n",
       "    }\n",
       "</style>\n",
       "<table border=\"1\" class=\"dataframe\">\n",
       "  <thead>\n",
       "    <tr style=\"text-align: right;\">\n",
       "      <th></th>\n",
       "      <th>predictor</th>\n",
       "      <th>house_lm</th>\n",
       "      <th>house_wt</th>\n",
       "    </tr>\n",
       "  </thead>\n",
       "  <tbody>\n",
       "    <tr>\n",
       "      <th>0</th>\n",
       "      <td>SqFtTotLiving</td>\n",
       "      <td>233.988942</td>\n",
       "      <td>251.507898</td>\n",
       "    </tr>\n",
       "    <tr>\n",
       "      <th>1</th>\n",
       "      <td>SqFtLot</td>\n",
       "      <td>-0.079342</td>\n",
       "      <td>-0.320387</td>\n",
       "    </tr>\n",
       "    <tr>\n",
       "      <th>2</th>\n",
       "      <td>Bathrooms</td>\n",
       "      <td>-19710.315740</td>\n",
       "      <td>-27396.580318</td>\n",
       "    </tr>\n",
       "    <tr>\n",
       "      <th>3</th>\n",
       "      <td>Bedrooms</td>\n",
       "      <td>-48910.813239</td>\n",
       "      <td>-56081.766475</td>\n",
       "    </tr>\n",
       "    <tr>\n",
       "      <th>4</th>\n",
       "      <td>BldgGrade</td>\n",
       "      <td>104511.739187</td>\n",
       "      <td>112102.144966</td>\n",
       "    </tr>\n",
       "    <tr>\n",
       "      <th>5</th>\n",
       "      <td>intercept</td>\n",
       "      <td>-515622.529004</td>\n",
       "      <td>-562309.653883</td>\n",
       "    </tr>\n",
       "  </tbody>\n",
       "</table>\n",
       "</div>"
      ],
      "text/plain": [
       "       predictor       house_lm       house_wt\n",
       "0  SqFtTotLiving     233.988942     251.507898\n",
       "1        SqFtLot      -0.079342      -0.320387\n",
       "2      Bathrooms  -19710.315740  -27396.580318\n",
       "3       Bedrooms  -48910.813239  -56081.766475\n",
       "4      BldgGrade  104511.739187  112102.144966\n",
       "5      intercept -515622.529004 -562309.653883"
      ]
     },
     "execution_count": 17,
     "metadata": {},
     "output_type": "execute_result"
    }
   ],
   "source": [
    "predictors = ['SqFtTotLiving', 'SqFtLot', 'Bathrooms', \n",
    "              'Bedrooms', 'BldgGrade']\n",
    "outcome = 'AdjSalePrice'\n",
    "\n",
    "house_wt = LinearRegression()\n",
    "house_wt.fit(house[predictors], house[outcome], sample_weight=house.Weight)\n",
    "pd.DataFrame({\n",
    "    'predictor': predictors,\n",
    "    'house_lm': house_lm.coef_,\n",
    "    'house_wt': house_wt.coef_,\n",
    "}).append({\n",
    "    'predictor': 'intercept', \n",
    "    'house_lm': house_lm.intercept_,\n",
    "    'house_wt': house_wt.intercept_,\n",
    "}, ignore_index=True)"
   ]
  },
  {
   "cell_type": "code",
   "execution_count": 18,
   "metadata": {},
   "outputs": [
    {
     "name": "stdout",
     "output_type": "stream",
     "text": [
      "       abs_residual_lm  abs_residual_wt  Year\n",
      "1034     103783.669942    117725.486644  2010\n",
      "3707      43257.186237     54386.087149  2007\n",
      "25811    252378.874708    244581.529713  2008\n",
      "1781       9144.393294      3234.484919  2008\n",
      "25059    206912.697855    220297.318954  2006\n",
      "\n",
      "\n",
      "Year   Abs_residual_lm    Abs_residual_wt\n",
      "2006 140615.44627184205 146075.23269855397\n",
      "2007 149644.77632330862 154564.0512862004\n",
      "2008 144142.05445190886 148022.25129591255\n",
      "2009 147838.35168361152 151530.1072899237\n",
      "2010 165850.31372002384 168394.79604033942\n",
      "2011 175127.67318058238 177277.46145572016\n",
      "2012 166698.9682081134 168952.9549059125\n",
      "2013 200126.84975968086 202463.684709197\n",
      "2014 188033.3282023555 189693.43218758836\n",
      "2015 185724.71915086126 183781.2482448893\n"
     ]
    },
    {
     "data": {
      "image/png": "[encoded data removed]",
      "text/plain": [
       "<Figure size 720x288 with 2 Axes>"
      ]
     },
     "metadata": {
      "needs_background": "light"
     },
     "output_type": "display_data"
    }
   ],
   "source": [
    "residuals = pd.DataFrame({\n",
    "    'abs_residual_lm': np.abs(house_lm.predict(house[predictors]) - house[outcome]),\n",
    "    'abs_residual_wt': np.abs(house_wt.predict(house[predictors]) - house[outcome]),\n",
    "    'Year': house['Year'],\n",
    "})\n",
    "print(residuals.head())\n",
    "axes = residuals.boxplot(['abs_residual_lm', 'abs_residual_wt'], by='Year', figsize=(10, 4))\n",
    "axes[0].set_ylim(0, 300000)\n",
    "\n",
    "print(\"\\n\\nYear   Abs_residual_lm    Abs_residual_wt\")\n",
    "for year, group in residuals.groupby('Year'):\n",
    "    print(year, np.mean(group['abs_residual_lm']), np.mean(group['abs_residual_wt']))"
   ]
  },
  {
   "cell_type": "markdown",
   "metadata": {},
   "source": [
    "Seems only help 2015 prediction reduce the residuale.If we have a recent holdout sample we can test the weight could help for furture prediction or not"
   ]
  },
  {
   "cell_type": "markdown",
   "metadata": {},
   "source": [
    "# 4 - Regularization"
   ]
  },
  {
   "cell_type": "code",
   "execution_count": 45,
   "metadata": {},
   "outputs": [
    {
     "name": "stdout",
     "output_type": "stream",
     "text": [
      "       SqFtTotLiving  SqFtLot  Bathrooms  Bedrooms  BldgGrade   PropertyType  \\\n",
      "21624           1960     4400        2.5         3          7  Single Family   \n",
      "21139           3290    16888        2.5         4         10  Single Family   \n",
      "16682           2420    13959        3.0         3          8  Single Family   \n",
      "18279           2230     4800        2.0         3          7  Single Family   \n",
      "15412           1830     4694        2.5         4          7  Single Family   \n",
      "\n",
      "       NbrLivingUnits  SqFtFinBasement  YrBuilt  YrRenovated  NewConstruction  \n",
      "21624               1                0     2006            0             True  \n",
      "21139               1             1190     1991            0            False  \n",
      "16682               1              680     1988            0            False  \n",
      "18279               1              940     1915            0            False  \n",
      "15412               1                0     2003            0            False  \n",
      "\n",
      " PropertyType List \n",
      "Single Family    16602\n",
      "Townhouse         1351\n",
      "Multiplex          196\n",
      "Name: PropertyType, dtype: int64\n"
     ]
    }
   ],
   "source": [
    "predictors = ['SqFtTotLiving', 'SqFtLot', 'Bathrooms', 'Bedrooms',\n",
    "              'BldgGrade', 'PropertyType', 'NbrLivingUnits',\n",
    "              'SqFtFinBasement', 'YrBuilt', 'YrRenovated', \n",
    "              'NewConstruction']\n",
    "\n",
    "outcome = 'AdjSalePrice'\n",
    "\n",
    "print(house[predictors].head())\n",
    "\n",
    "print(\"\\n PropertyType List \\n{}\".format(house['PropertyType'].value_counts(dropna=False)))\n",
    "\n",
    "X_train = pd.get_dummies(house[predictors], drop_first=True)\n",
    "X_train['NewConstruction'] = [1 if nc else 0 for nc in X_train['NewConstruction']]\n",
    "y_train = house[outcome]\n",
    "\n",
    "X_test = pd.get_dummies(house_test[predictors], drop_first=True)\n",
    "X_test['NewConstruction'] = [1 if nc else 0 for nc in X_test['NewConstruction']]\n",
    "y_test = house_test[outcome]"
   ]
  },
  {
   "cell_type": "markdown",
   "metadata": {},
   "source": [
    "### Regular Multiple Regression"
   ]
  },
  {
   "cell_type": "code",
   "execution_count": 46,
   "metadata": {},
   "outputs": [
    {
     "data": {
      "text/plain": [
       "{'Intercept': 6253438.247,\n",
       " 'SqFtTotLiving': 208.863,\n",
       " 'SqFtLot': 0.058,\n",
       " 'Bathrooms': 43956.047,\n",
       " 'Bedrooms': -57650.812,\n",
       " 'BldgGrade': 132981.485,\n",
       " 'NbrLivingUnits': 22840.096,\n",
       " 'SqFtFinBasement': 3.716,\n",
       " 'YrBuilt': -3611.898,\n",
       " 'YrRenovated': -2.519,\n",
       " 'NewConstruction': -1628.71,\n",
       " 'PropertyType_Single Family': 46139.123}"
      ]
     },
     "execution_count": 46,
     "metadata": {},
     "output_type": "execute_result"
    }
   ],
   "source": [
    "house_lm = LinearRegression()\n",
    "house_lm.fit(X_train, y_train)\n",
    "\n",
    "mlr_coefs = dict(\n",
    "    zip(['Intercept'] + X_train.columns.tolist()[:-1], \n",
    "        np.round(np.concatenate((house_lm.intercept_, house_lm.coef_), \n",
    "                                axis=None), 3))\n",
    ")\n",
    "\n",
    "mlr_coefs"
   ]
  },
  {
   "cell_type": "code",
   "execution_count": 47,
   "metadata": {},
   "outputs": [
    {
     "name": "stdout",
     "output_type": "stream",
     "text": [
      "regular mlr MSE: 236453\n",
      "r2_test: 0.5938\n"
     ]
    }
   ],
   "source": [
    "fitted_test = house_lm.predict(X_test)\n",
    "MSE_test = np.sqrt(mean_squared_error(y_test, fitted_test))\n",
    "r2 = r2_score(y_test, fitted_test)\n",
    "print(f'regular mlr MSE: {MSE_test:.0f}')\n",
    "print(f'r2_test: {r2:.4f}')"
   ]
  },
  {
   "cell_type": "markdown",
   "metadata": {},
   "source": [
    "### L2 - Ridge regression (Parameter shrinkage)"
   ]
  },
  {
   "cell_type": "code",
   "execution_count": 48,
   "metadata": {},
   "outputs": [
    {
     "name": "stdout",
     "output_type": "stream",
     "text": [
      "Ridge Regression MAE: 136115.592\n",
      "Ridge Regression coefficients:\n"
     ]
    },
    {
     "data": {
      "text/plain": [
       "{'Intercept': 6158725.175,\n",
       " 'SqFtTotLiving': 204.852,\n",
       " 'SqFtLot': 0.069,\n",
       " 'Bathrooms': 45042.775,\n",
       " 'Bedrooms': -56311.415,\n",
       " 'BldgGrade': 133022.374,\n",
       " 'NbrLivingUnits': 16096.328,\n",
       " 'SqFtFinBasement': 6.249,\n",
       " 'YrBuilt': -3553.649,\n",
       " 'YrRenovated': -1.59,\n",
       " 'NewConstruction': -1584.415,\n",
       " 'PropertyType_Single Family': 33225.841}"
      ]
     },
     "execution_count": 48,
     "metadata": {},
     "output_type": "execute_result"
    }
   ],
   "source": [
    "ridge_cv = RidgeCV(normalize=True, alphas=np.logspace(-10, 1, 400))\n",
    "ridge_model = ridge_cv.fit(X_train, y_train)\n",
    "ridge_prediction = ridge_model.predict(X_test)\n",
    "ridge_mae = np.mean(np.abs(y_test - ridge_prediction))\n",
    "ridge_coefs = dict(\n",
    "    zip(['Intercept'] + X_train.columns.tolist()[:-1], \n",
    "        np.round(np.concatenate((ridge_model.intercept_, ridge_model.coef_), \n",
    "                                axis=None), 3))\n",
    ")\n",
    "\n",
    "print('Ridge Regression MAE: {}'.format(np.round(ridge_mae, 3)))\n",
    "print('Ridge Regression coefficients:')\n",
    "ridge_coefs"
   ]
  },
  {
   "cell_type": "markdown",
   "metadata": {},
   "source": [
    "### L1 - Lasso regression (Parameter sparsity)"
   ]
  },
  {
   "cell_type": "code",
   "execution_count": 49,
   "metadata": {},
   "outputs": [
    {
     "name": "stdout",
     "output_type": "stream",
     "text": [
      "LASSO MAE: 135875.408\n",
      "LASSO coefficients:\n"
     ]
    },
    {
     "data": {
      "text/plain": [
       "{'Intercept': 6068917.341,\n",
       " 'SqFtTotLiving': 206.204,\n",
       " 'SqFtLot': 0.021,\n",
       " 'Bathrooms': 40385.757,\n",
       " 'Bedrooms': -53749.693,\n",
       " 'BldgGrade': 132606.009,\n",
       " 'NbrLivingUnits': 0.0,\n",
       " 'SqFtFinBasement': 3.776,\n",
       " 'YrBuilt': -3481.479,\n",
       " 'YrRenovated': 0.0,\n",
       " 'NewConstruction': -0.0,\n",
       " 'PropertyType_Single Family': -0.0}"
      ]
     },
     "execution_count": 49,
     "metadata": {},
     "output_type": "execute_result"
    }
   ],
   "source": [
    "lasso_cv = LassoCV(normalize=True, alphas=np.logspace(-10, 1, 400))\n",
    "lasso_model = lasso_cv.fit(X_train, y_train)\n",
    "lasso_prediction = lasso_model.predict(X_test)\n",
    "lasso_mae = np.mean(np.abs(y_test - lasso_prediction))\n",
    "lasso_coefs = dict(\n",
    "    zip(['Intercept'] + X_train.columns.tolist()[:-1], \n",
    "        np.round(np.concatenate((lasso_model.intercept_, lasso_model.coef_), axis=None), 3))\n",
    ")\n",
    "\n",
    "print('LASSO MAE: {}'.format(np.round(lasso_mae, 3)))\n",
    "print('LASSO coefficients:')\n",
    "lasso_coefs"
   ]
  },
  {
   "cell_type": "markdown",
   "metadata": {},
   "source": [
    "# Home Work"
   ]
  },
  {
   "cell_type": "markdown",
   "metadata": {},
   "source": [
    "1. Compare the three model fits and draw conclusion \n",
    "from the comparision of the three model firt regarding there coefficent difference"
   ]
  },
  {
   "cell_type": "code",
   "execution_count": 50,
   "metadata": {},
   "outputs": [
    {
     "name": "stdout",
     "output_type": "stream",
     "text": [
      "MLR\n",
      "{'Intercept': 6253438.247, 'SqFtTotLiving': 208.863, 'SqFtLot': 0.058, 'Bathrooms': 43956.047, 'Bedrooms': -57650.812, 'BldgGrade': 132981.485, 'NbrLivingUnits': 22840.096, 'SqFtFinBasement': 3.716, 'YrBuilt': -3611.898, 'YrRenovated': -2.519, 'NewConstruction': -1628.71, 'PropertyType_Single Family': 46139.123}\n",
      "RIDGE\n",
      "{'Intercept': 6158725.175, 'SqFtTotLiving': 204.852, 'SqFtLot': 0.069, 'Bathrooms': 45042.775, 'Bedrooms': -56311.415, 'BldgGrade': 133022.374, 'NbrLivingUnits': 16096.328, 'SqFtFinBasement': 6.249, 'YrBuilt': -3553.649, 'YrRenovated': -1.59, 'NewConstruction': -1584.415, 'PropertyType_Single Family': 33225.841}\n",
      "LASSO\n",
      "{'Intercept': 6068917.341, 'SqFtTotLiving': 206.204, 'SqFtLot': 0.021, 'Bathrooms': 40385.757, 'Bedrooms': -53749.693, 'BldgGrade': 132606.009, 'NbrLivingUnits': 0.0, 'SqFtFinBasement': 3.776, 'YrBuilt': -3481.479, 'YrRenovated': 0.0, 'NewConstruction': -0.0, 'PropertyType_Single Family': -0.0}\n"
     ]
    }
   ],
   "source": [
    "print('MLR')\n",
    "print(mlr_coefs)\n",
    "print('RIDGE')\n",
    "print(ridge_coefs)\n",
    "print('LASSO')\n",
    "print(lasso_coefs)"
   ]
  },
  {
   "cell_type": "markdown",
   "metadata": {},
   "source": [
    "####  The difference between ridge and lasso regression is that Lasso tends to make coefficients to absolute zero as compared to Ridge which doesn't set the value of coefficient to absolute zero but tring to minimize them and the total number of predictors didn't change. In Lasso Regression, the coefficents of \"YrRenovated\" and \"Family\", 'NbrLivingUnits', 'NewConstruction' are 0. "
   ]
  },
  {
   "cell_type": "markdown",
   "metadata": {},
   "source": [
    "2. Show the three model performance on both tran and test"
   ]
  },
  {
   "cell_type": "code",
   "execution_count": 51,
   "metadata": {},
   "outputs": [
    {
     "name": "stdout",
     "output_type": "stream",
     "text": [
      "regular mlr MSE: 61334064361\n",
      "L2 MSE: 61339881044\n",
      "L1 MSE: 61364676319\n",
      "r2_train: 0.5945\n",
      "L2 r2_train: 0.5944\n",
      "L1 r2_train: 0.5943\n"
     ]
    }
   ],
   "source": [
    "#For train data\n",
    "fitted_train = house_lm.predict(X_train)\n",
    "MSE_train = mean_squared_error(y_train, fitted_train)\n",
    "r2 = r2_score(y_train, fitted_train)\n",
    "\n",
    "ridge_train_prediction = ridge_model.predict(X_train)\n",
    "lasso_train_prediction = lasso_model.predict(X_train)\n",
    "\n",
    "L2_MSE_train = mean_squared_error(y_train, ridge_train_prediction)\n",
    "L2_train_r2 = r2_score(y_train, ridge_train_prediction)\n",
    "\n",
    "L1_MSE_train = mean_squared_error(y_train, lasso_train_prediction)                   \n",
    "L1_train_r2 = r2_score(y_train, lasso_train_prediction)\n",
    "\n",
    "print(f'regular mlr MSE: {MSE_train:.0f}')\n",
    "print(f'L2 MSE: {L2_MSE_train:.0f}')\n",
    "print(f'L1 MSE: {L1_MSE_train:.0f}')\n",
    "\n",
    "print(f'r2_train: {r2:.4f}')\n",
    "print(f'L2 r2_train: {L2_train_r2:.4f}')\n",
    "print(f'L1 r2_train: {L1_train_r2:.4f}')"
   ]
  },
  {
   "cell_type": "code",
   "execution_count": 52,
   "metadata": {},
   "outputs": [
    {
     "name": "stdout",
     "output_type": "stream",
     "text": [
      "regular mlr MSE: 55910181991\n",
      "L2 MSE: 55828890554\n",
      "L1 MSE: 55777784546\n",
      "r2_test: 0.5938\n",
      "L2 r2_test: 0.5944\n",
      "L1 r2_test: 0.5947\n"
     ]
    }
   ],
   "source": [
    "#For test data\n",
    "fitted_test = house_lm.predict(X_test)\n",
    "MSE_test = mean_squared_error(y_test, fitted_test)\n",
    "r2 = r2_score(y_test, fitted_test)\n",
    "\n",
    "ridge_test_prediction = ridge_model.predict(X_test)\n",
    "lasso_test_prediction = lasso_model.predict(X_test)\n",
    "\n",
    "L2_MSE_test = mean_squared_error(y_test, ridge_test_prediction)\n",
    "L2_r2 = r2_score(y_test, ridge_test_prediction)\n",
    "\n",
    "L1_MSE_test = mean_squared_error(y_test, lasso_test_prediction)                    \n",
    "L1_r2 = r2_score(y_test, lasso_test_prediction)\n",
    "\n",
    "print(f'regular mlr MSE: {MSE_test:.0f}')\n",
    "print(f'L2 MSE: {L2_MSE_test:.0f}')\n",
    "print(f'L1 MSE: {L1_MSE_test:.0f}')\n",
    "\n",
    "print(f'r2_test: {r2:.4f}')\n",
    "print(f'L2 r2_test: {L2_r2:.4f}')\n",
    "print(f'L1 r2_test: {L1_r2:.4f}')"
   ]
  },
  {
   "cell_type": "markdown",
   "metadata": {},
   "source": [
    "#### From the result, we can see that these 3 results are pretty close to each other, so it's hard to tell which one is better."
   ]
  },
  {
   "cell_type": "code",
   "execution_count": null,
   "metadata": {},
   "outputs": [],
   "source": []
  }
 ],
 "metadata": {
  "kernelspec": {
   "display_name": "Python 3",
   "language": "python",
   "name": "python3"
  },
  "language_info": {
   "codemirror_mode": {
    "name": "ipython",
    "version": 3
   },
   "file_extension": ".py",
   "mimetype": "text/x-python",
   "name": "python",
   "nbconvert_exporter": "python",
   "pygments_lexer": "ipython3",
   "version": "3.7.3"
  }
 },
 "nbformat": 4,
 "nbformat_minor": 2
}
