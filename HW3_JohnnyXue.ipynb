{
 "cells": [
  {
   "cell_type": "markdown",
   "metadata": {},
   "source": [
    "# A rental car company claims the mean time to rent a car on their website is 60 seconds with a standard deviation of 30 seconds. A random sample of 36 customers attempted to rent a car on the website. "
   ]
  },
  {
   "cell_type": "markdown",
   "metadata": {},
   "source": [
    "## 1) If the mean time to rent was 65 seconds. Is this enough evidence to contradict the company's claim at 5% confidence level? What's the power?"
   ]
  },
  {
   "cell_type": "code",
   "execution_count": 41,
   "metadata": {},
   "outputs": [],
   "source": [
    "import scipy.stats as stats\n",
    "import math"
   ]
  },
  {
   "cell_type": "code",
   "execution_count": 64,
   "metadata": {},
   "outputs": [
    {
     "name": "stdout",
     "output_type": "stream",
     "text": [
      "z_score: 1.0\n",
      "power: 0.2595\n"
     ]
    }
   ],
   "source": [
    "# H0: mu - mu0 = 0    H1: mu - mu0 > 0\n",
    "# It's kind of meaningless to test whether it would take less time to rent a car.\n",
    "\n",
    "alpha = 0.05\n",
    "mu = 65\n",
    "mu0 = 60\n",
    "n = 36\n",
    "sigma = 30\n",
    "\n",
    "z_score = (mu-mu0) / (sigma/math.sqrt(n))\n",
    "print('z_score: ' + str(z_score))\n",
    "power = stats.norm.cdf(z_score - stats.norm.ppf(0.95))\n",
    "print('power: ' + str(round(power, 4)))"
   ]
  },
  {
   "cell_type": "markdown",
   "metadata": {},
   "source": [
    "#### Becase z_score is less than 1.645 (one tail at 95%), we cannot reject the null hypothesis, and the statistical power is 25.95%"
   ]
  },
  {
   "cell_type": "markdown",
   "metadata": {},
   "source": [
    "## 2) If the analysts team believe the claim is not correct and the the time for rent is 67 seconds, what's the sample size need to designed for a sufficient test with 85% of power"
   ]
  },
  {
   "cell_type": "code",
   "execution_count": 70,
   "metadata": {},
   "outputs": [
    {
     "name": "stdout",
     "output_type": "stream",
     "text": [
      "sample size: 132.0483685326968\n"
     ]
    }
   ],
   "source": [
    "mu0 = 60\n",
    "mu = 67\n",
    "sigma = 30\n",
    "alpha = 0.05\n",
    "beta = 0.15\n",
    "\n",
    "n = (sigma * (stats.norm.ppf(1-alpha) + stats.norm.ppf(1-beta)) / (mu-mu0))**2\n",
    "print('sample size: ' + str(n))"
   ]
  },
  {
   "cell_type": "markdown",
   "metadata": {},
   "source": [
    "#### so the sample size would be 133"
   ]
  }
 ],
 "metadata": {
  "kernelspec": {
   "display_name": "Python 3",
   "language": "python",
   "name": "python3"
  },
  "language_info": {
   "codemirror_mode": {
    "name": "ipython",
    "version": 3
   },
   "file_extension": ".py",
   "mimetype": "text/x-python",
   "name": "python",
   "nbconvert_exporter": "python",
   "pygments_lexer": "ipython3",
   "version": "3.7.3"
  }
 },
 "nbformat": 4,
 "nbformat_minor": 4
}
